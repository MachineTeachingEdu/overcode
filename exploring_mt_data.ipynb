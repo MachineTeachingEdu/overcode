{
 "cells": [
  {
   "cell_type": "code",
   "execution_count": 1,
   "id": "fb1ee1f0-3319-4af5-99e2-40f99c1684b9",
   "metadata": {},
   "outputs": [],
   "source": [
    "import psycopg2\n",
    "import os\n",
    "import json\n",
    "\n",
    "# Load the database parameters\n",
    "db_params_path = os.path.join(\"scripts\", \"db_params.json\")\n",
    "with open(db_params_path, \"r\") as f:\n",
    "    db_params = json.load(f)\n",
    "\n",
    "# Establish a connection\n",
    "connection = psycopg2.connect(**db_params)"
   ]
  },
  {
   "cell_type": "code",
   "execution_count": 2,
   "id": "40f8aadc",
   "metadata": {},
   "outputs": [
    {
     "name": "stderr",
     "output_type": "stream",
     "text": [
      "/var/folders/r4/lsk7h_t97_z0qpppcnz96n700000gn/T/ipykernel_5000/3729999229.py:12: UserWarning: pandas only supports SQLAlchemy connectable (engine/connection) or database string URI or sqlite3 DBAPI2 connection. Other DBAPI2 objects are not tested. Please consider using SQLAlchemy.\n",
      "  df = pd.read_sql_query(sql_query, connection)\n"
     ]
    }
   ],
   "source": [
    "import pandas as pd\n",
    "\n",
    "n = 1000\n",
    "\n",
    "# SQL query\n",
    "sql_query = f\"\"\"SELECT problem_id, COUNT(DISTINCT user_id)\n",
    "                FROM questions_userlog\n",
    "                GROUP BY problem_id\n",
    "                HAVING COUNT(DISTINCT user_id) >= {n};\"\"\"\n",
    "\n",
    "# Load data into a Pandas dataframe\n",
    "df = pd.read_sql_query(sql_query, connection)"
   ]
  },
  {
   "cell_type": "code",
   "execution_count": 4,
   "id": "22207672",
   "metadata": {},
   "outputs": [
    {
     "data": {
      "text/html": [
       "<div>\n",
       "<style scoped>\n",
       "    .dataframe tbody tr th:only-of-type {\n",
       "        vertical-align: middle;\n",
       "    }\n",
       "\n",
       "    .dataframe tbody tr th {\n",
       "        vertical-align: top;\n",
       "    }\n",
       "\n",
       "    .dataframe thead th {\n",
       "        text-align: right;\n",
       "    }\n",
       "</style>\n",
       "<table border=\"1\" class=\"dataframe\">\n",
       "  <thead>\n",
       "    <tr style=\"text-align: right;\">\n",
       "      <th></th>\n",
       "      <th>problem_id</th>\n",
       "      <th>count</th>\n",
       "    </tr>\n",
       "  </thead>\n",
       "  <tbody>\n",
       "    <tr>\n",
       "      <th>count</th>\n",
       "      <td>33.000000</td>\n",
       "      <td>33.000000</td>\n",
       "    </tr>\n",
       "    <tr>\n",
       "      <th>mean</th>\n",
       "      <td>806.757576</td>\n",
       "      <td>1240.757576</td>\n",
       "    </tr>\n",
       "    <tr>\n",
       "      <th>std</th>\n",
       "      <td>33.554089</td>\n",
       "      <td>233.829135</td>\n",
       "    </tr>\n",
       "    <tr>\n",
       "      <th>min</th>\n",
       "      <td>734.000000</td>\n",
       "      <td>1007.000000</td>\n",
       "    </tr>\n",
       "    <tr>\n",
       "      <th>25%</th>\n",
       "      <td>806.000000</td>\n",
       "      <td>1065.000000</td>\n",
       "    </tr>\n",
       "    <tr>\n",
       "      <th>50%</th>\n",
       "      <td>817.000000</td>\n",
       "      <td>1175.000000</td>\n",
       "    </tr>\n",
       "    <tr>\n",
       "      <th>75%</th>\n",
       "      <td>829.000000</td>\n",
       "      <td>1305.000000</td>\n",
       "    </tr>\n",
       "    <tr>\n",
       "      <th>max</th>\n",
       "      <td>840.000000</td>\n",
       "      <td>1813.000000</td>\n",
       "    </tr>\n",
       "  </tbody>\n",
       "</table>\n",
       "</div>"
      ],
      "text/plain": [
       "       problem_id        count\n",
       "count   33.000000    33.000000\n",
       "mean   806.757576  1240.757576\n",
       "std     33.554089   233.829135\n",
       "min    734.000000  1007.000000\n",
       "25%    806.000000  1065.000000\n",
       "50%    817.000000  1175.000000\n",
       "75%    829.000000  1305.000000\n",
       "max    840.000000  1813.000000"
      ]
     },
     "execution_count": 4,
     "metadata": {},
     "output_type": "execute_result"
    }
   ],
   "source": [
    "df.describe()"
   ]
  }
 ],
 "metadata": {
  "kernelspec": {
   "display_name": "Python 3 (ipykernel)",
   "language": "python",
   "name": "python3"
  },
  "language_info": {
   "codemirror_mode": {
    "name": "ipython",
    "version": 3
   },
   "file_extension": ".py",
   "mimetype": "text/x-python",
   "name": "python",
   "nbconvert_exporter": "python",
   "pygments_lexer": "ipython3",
   "version": "3.10.4"
  }
 },
 "nbformat": 4,
 "nbformat_minor": 5
}
