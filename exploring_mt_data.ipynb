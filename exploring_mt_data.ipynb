{
 "cells": [
  {
   "cell_type": "markdown",
   "id": "6ab681fb",
   "metadata": {},
   "source": [
    "# Conectando com o Banco de Dados"
   ]
  },
  {
   "cell_type": "code",
   "execution_count": 3,
   "id": "fb1ee1f0-3319-4af5-99e2-40f99c1684b9",
   "metadata": {},
   "outputs": [],
   "source": [
    "import psycopg2\n",
    "import os\n",
    "import json\n",
    "import matplotlib.pyplot as plt\n",
    "import matplotlib\n",
    "import pandas as pd\n",
    "\n",
    "# Load the database parameters\n",
    "db_params_path = os.path.join(\"scripts\", \"db_params.json\")\n",
    "with open(db_params_path, \"r\") as f:\n",
    "    db_params = json.load(f)\n",
    "\n",
    "# Establish a connection\n",
    "connection = psycopg2.connect(**db_params)"
   ]
  },
  {
   "cell_type": "markdown",
   "id": "d4298bc6",
   "metadata": {},
   "source": [
    "## Teste"
   ]
  },
  {
   "cell_type": "code",
   "execution_count": 2,
   "id": "40f8aadc",
   "metadata": {},
   "outputs": [
    {
     "name": "stderr",
     "output_type": "stream",
     "text": [
      "/var/folders/r4/lsk7h_t97_z0qpppcnz96n700000gn/T/ipykernel_12887/1497920074.py:10: UserWarning: pandas only supports SQLAlchemy connectable (engine/connection) or database string URI or sqlite3 DBAPI2 connection. Other DBAPI2 objects are not tested. Please consider using SQLAlchemy.\n",
      "  df = pd.read_sql_query(sql_query, connection)\n"
     ]
    },
    {
     "data": {
      "text/html": [
       "<div>\n",
       "<style scoped>\n",
       "    .dataframe tbody tr th:only-of-type {\n",
       "        vertical-align: middle;\n",
       "    }\n",
       "\n",
       "    .dataframe tbody tr th {\n",
       "        vertical-align: top;\n",
       "    }\n",
       "\n",
       "    .dataframe thead th {\n",
       "        text-align: right;\n",
       "    }\n",
       "</style>\n",
       "<table border=\"1\" class=\"dataframe\">\n",
       "  <thead>\n",
       "    <tr style=\"text-align: right;\">\n",
       "      <th></th>\n",
       "      <th>problem_id</th>\n",
       "      <th>count</th>\n",
       "    </tr>\n",
       "  </thead>\n",
       "  <tbody>\n",
       "    <tr>\n",
       "      <th>count</th>\n",
       "      <td>138.000000</td>\n",
       "      <td>138.000000</td>\n",
       "    </tr>\n",
       "    <tr>\n",
       "      <th>mean</th>\n",
       "      <td>678.195652</td>\n",
       "      <td>369.673913</td>\n",
       "    </tr>\n",
       "    <tr>\n",
       "      <th>std</th>\n",
       "      <td>268.866718</td>\n",
       "      <td>539.780872</td>\n",
       "    </tr>\n",
       "    <tr>\n",
       "      <th>min</th>\n",
       "      <td>3.000000</td>\n",
       "      <td>1.000000</td>\n",
       "    </tr>\n",
       "    <tr>\n",
       "      <th>25%</th>\n",
       "      <td>743.250000</td>\n",
       "      <td>4.000000</td>\n",
       "    </tr>\n",
       "    <tr>\n",
       "      <th>50%</th>\n",
       "      <td>783.500000</td>\n",
       "      <td>20.000000</td>\n",
       "    </tr>\n",
       "    <tr>\n",
       "      <th>75%</th>\n",
       "      <td>818.750000</td>\n",
       "      <td>893.750000</td>\n",
       "    </tr>\n",
       "    <tr>\n",
       "      <th>max</th>\n",
       "      <td>857.000000</td>\n",
       "      <td>1813.000000</td>\n",
       "    </tr>\n",
       "  </tbody>\n",
       "</table>\n",
       "</div>"
      ],
      "text/plain": [
       "       problem_id        count\n",
       "count  138.000000   138.000000\n",
       "mean   678.195652   369.673913\n",
       "std    268.866718   539.780872\n",
       "min      3.000000     1.000000\n",
       "25%    743.250000     4.000000\n",
       "50%    783.500000    20.000000\n",
       "75%    818.750000   893.750000\n",
       "max    857.000000  1813.000000"
      ]
     },
     "execution_count": 2,
     "metadata": {},
     "output_type": "execute_result"
    }
   ],
   "source": [
    "n = 0\n",
    "\n",
    "# SQL query\n",
    "sql_query = f\"\"\"SELECT problem_id, COUNT(DISTINCT user_id)\n",
    "                FROM questions_userlog\n",
    "                GROUP BY problem_id\n",
    "                HAVING COUNT(DISTINCT user_id) >= {n};\"\"\"\n",
    "\n",
    "# Load data into a Pandas dataframe\n",
    "df = pd.read_sql_query(sql_query, connection)\n",
    "\n",
    "# Take a look at the data\n",
    "df.describe()"
   ]
  },
  {
   "cell_type": "markdown",
   "id": "e633a076",
   "metadata": {},
   "source": [
    "# Análise Exploratória"
   ]
  },
  {
   "cell_type": "markdown",
   "id": "1f79f8a9",
   "metadata": {},
   "source": [
    "## Quantas questões existem no banco de dados?"
   ]
  },
  {
   "cell_type": "code",
   "execution_count": 3,
   "id": "b6c48018",
   "metadata": {},
   "outputs": [
    {
     "name": "stderr",
     "output_type": "stream",
     "text": [
      "/var/folders/r4/lsk7h_t97_z0qpppcnz96n700000gn/T/ipykernel_12887/593237104.py:7: UserWarning: pandas only supports SQLAlchemy connectable (engine/connection) or database string URI or sqlite3 DBAPI2 connection. Other DBAPI2 objects are not tested. Please consider using SQLAlchemy.\n",
      "  questions_df = pd.read_sql_query(sql_query, connection)\n"
     ]
    },
    {
     "data": {
      "text/plain": [
       "id                     842\n",
       "title                  842\n",
       "content                842\n",
       "difficulty             842\n",
       "link                   842\n",
       "retrieved_date         842\n",
       "crawler                842\n",
       "hint                   842\n",
       "test_case_generator    124\n",
       "question_type          842\n",
       "options                842\n",
       "dtype: int64"
      ]
     },
     "execution_count": 3,
     "metadata": {},
     "output_type": "execute_result"
    }
   ],
   "source": [
    "# SQL query\n",
    "sql_query = f\"\"\"SELECT *\n",
    "                FROM questions_problem\n",
    "                \"\"\"\n",
    "\n",
    "# Load data into a Pandas dataframe\n",
    "questions_df = pd.read_sql_query(sql_query, connection)\n",
    "\n",
    "# Count lines\n",
    "questions_df.count()"
   ]
  },
  {
   "cell_type": "markdown",
   "id": "b0407adf",
   "metadata": {},
   "source": [
    "### Quantas questões com resposta existem no banco de dados?"
   ]
  },
  {
   "cell_type": "code",
   "execution_count": 4,
   "id": "cff55c00",
   "metadata": {},
   "outputs": [
    {
     "name": "stderr",
     "output_type": "stream",
     "text": [
      "/var/folders/r4/lsk7h_t97_z0qpppcnz96n700000gn/T/ipykernel_12887/650427698.py:10: UserWarning: pandas only supports SQLAlchemy connectable (engine/connection) or database string URI or sqlite3 DBAPI2 connection. Other DBAPI2 objects are not tested. Please consider using SQLAlchemy.\n",
      "  df = pd.read_sql_query(sql_query, connection)\n"
     ]
    },
    {
     "name": "stdout",
     "output_type": "stream",
     "text": [
      "Number of problems with at least 1 answer(s) from distinct users: 138\n"
     ]
    }
   ],
   "source": [
    "n = 1\n",
    "\n",
    "# SQL query\n",
    "sql_query = f\"\"\"SELECT problem_id, COUNT(DISTINCT user_id)\n",
    "                FROM questions_userlog\n",
    "                GROUP BY problem_id\n",
    "                HAVING COUNT(DISTINCT user_id) >= {n};\"\"\"\n",
    "\n",
    "# Load data into a Pandas dataframe\n",
    "df = pd.read_sql_query(sql_query, connection)\n",
    "\n",
    "print(f\"Number of problems with at least {n} answer(s) from distinct users: {len(df)}\")"
   ]
  },
  {
   "cell_type": "markdown",
   "id": "397e792f",
   "metadata": {},
   "source": [
    "## Quantas soluções existem no banco de dados?"
   ]
  },
  {
   "cell_type": "markdown",
   "id": "b6194cca",
   "metadata": {},
   "source": [
    "Transformando tabela de soluções em Dataframe:"
   ]
  },
  {
   "cell_type": "code",
   "execution_count": 5,
   "id": "ba92449f",
   "metadata": {},
   "outputs": [
    {
     "name": "stderr",
     "output_type": "stream",
     "text": [
      "/var/folders/r4/lsk7h_t97_z0qpppcnz96n700000gn/T/ipykernel_12887/3692574933.py:7: UserWarning: pandas only supports SQLAlchemy connectable (engine/connection) or database string URI or sqlite3 DBAPI2 connection. Other DBAPI2 objects are not tested. Please consider using SQLAlchemy.\n",
      "  solutions_df = pd.read_sql_query(sql_query, connection)\n"
     ]
    },
    {
     "data": {
      "text/html": [
       "<div>\n",
       "<style scoped>\n",
       "    .dataframe tbody tr th:only-of-type {\n",
       "        vertical-align: middle;\n",
       "    }\n",
       "\n",
       "    .dataframe tbody tr th {\n",
       "        vertical-align: top;\n",
       "    }\n",
       "\n",
       "    .dataframe thead th {\n",
       "        text-align: right;\n",
       "    }\n",
       "</style>\n",
       "<table border=\"1\" class=\"dataframe\">\n",
       "  <thead>\n",
       "    <tr style=\"text-align: right;\">\n",
       "      <th></th>\n",
       "      <th>id</th>\n",
       "      <th>seconds_in_code</th>\n",
       "      <th>seconds_in_page</th>\n",
       "      <th>seconds_to_begin</th>\n",
       "      <th>solution_lines</th>\n",
       "      <th>problem_id</th>\n",
       "      <th>user_id</th>\n",
       "      <th>test_case_hits</th>\n",
       "      <th>user_class_id</th>\n",
       "    </tr>\n",
       "  </thead>\n",
       "  <tbody>\n",
       "    <tr>\n",
       "      <th>count</th>\n",
       "      <td>434337.000000</td>\n",
       "      <td>4.343370e+05</td>\n",
       "      <td>434337.000000</td>\n",
       "      <td>434337.000000</td>\n",
       "      <td>434337.000000</td>\n",
       "      <td>434337.000000</td>\n",
       "      <td>434337.000000</td>\n",
       "      <td>426418.000000</td>\n",
       "      <td>434337.000000</td>\n",
       "    </tr>\n",
       "    <tr>\n",
       "      <th>mean</th>\n",
       "      <td>351012.579948</td>\n",
       "      <td>8.547523e+02</td>\n",
       "      <td>2805.806567</td>\n",
       "      <td>335.728480</td>\n",
       "      <td>11.139997</td>\n",
       "      <td>803.728800</td>\n",
       "      <td>1843.444443</td>\n",
       "      <td>26.622722</td>\n",
       "      <td>69.952010</td>\n",
       "    </tr>\n",
       "    <tr>\n",
       "      <th>std</th>\n",
       "      <td>125402.352557</td>\n",
       "      <td>8.804527e+03</td>\n",
       "      <td>12750.494749</td>\n",
       "      <td>3536.405048</td>\n",
       "      <td>9.153649</td>\n",
       "      <td>52.135296</td>\n",
       "      <td>632.069444</td>\n",
       "      <td>39.219658</td>\n",
       "      <td>27.920784</td>\n",
       "    </tr>\n",
       "    <tr>\n",
       "      <th>min</th>\n",
       "      <td>84420.000000</td>\n",
       "      <td>0.000000e+00</td>\n",
       "      <td>0.000000</td>\n",
       "      <td>0.000000</td>\n",
       "      <td>1.000000</td>\n",
       "      <td>3.000000</td>\n",
       "      <td>1.000000</td>\n",
       "      <td>0.000000</td>\n",
       "      <td>2.000000</td>\n",
       "    </tr>\n",
       "    <tr>\n",
       "      <th>25%</th>\n",
       "      <td>242438.000000</td>\n",
       "      <td>9.200000e+01</td>\n",
       "      <td>314.000000</td>\n",
       "      <td>3.000000</td>\n",
       "      <td>7.000000</td>\n",
       "      <td>804.000000</td>\n",
       "      <td>1323.000000</td>\n",
       "      <td>0.000000</td>\n",
       "      <td>54.000000</td>\n",
       "    </tr>\n",
       "    <tr>\n",
       "      <th>50%</th>\n",
       "      <td>351023.000000</td>\n",
       "      <td>1.940000e+02</td>\n",
       "      <td>796.000000</td>\n",
       "      <td>15.000000</td>\n",
       "      <td>10.000000</td>\n",
       "      <td>813.000000</td>\n",
       "      <td>1762.000000</td>\n",
       "      <td>0.000000</td>\n",
       "      <td>73.000000</td>\n",
       "    </tr>\n",
       "    <tr>\n",
       "      <th>75%</th>\n",
       "      <td>459607.000000</td>\n",
       "      <td>3.900000e+02</td>\n",
       "      <td>1885.000000</td>\n",
       "      <td>79.000000</td>\n",
       "      <td>14.000000</td>\n",
       "      <td>827.000000</td>\n",
       "      <td>2348.000000</td>\n",
       "      <td>53.000000</td>\n",
       "      <td>88.000000</td>\n",
       "    </tr>\n",
       "    <tr>\n",
       "      <th>max</th>\n",
       "      <td>568191.000000</td>\n",
       "      <td>1.042544e+06</td>\n",
       "      <td>504133.000000</td>\n",
       "      <td>499615.000000</td>\n",
       "      <td>3859.000000</td>\n",
       "      <td>857.000000</td>\n",
       "      <td>3421.000000</td>\n",
       "      <td>100.000000</td>\n",
       "      <td>143.000000</td>\n",
       "    </tr>\n",
       "  </tbody>\n",
       "</table>\n",
       "</div>"
      ],
      "text/plain": [
       "                  id  seconds_in_code  seconds_in_page  seconds_to_begin  \\\n",
       "count  434337.000000     4.343370e+05    434337.000000     434337.000000   \n",
       "mean   351012.579948     8.547523e+02      2805.806567        335.728480   \n",
       "std    125402.352557     8.804527e+03     12750.494749       3536.405048   \n",
       "min     84420.000000     0.000000e+00         0.000000          0.000000   \n",
       "25%    242438.000000     9.200000e+01       314.000000          3.000000   \n",
       "50%    351023.000000     1.940000e+02       796.000000         15.000000   \n",
       "75%    459607.000000     3.900000e+02      1885.000000         79.000000   \n",
       "max    568191.000000     1.042544e+06    504133.000000     499615.000000   \n",
       "\n",
       "       solution_lines     problem_id        user_id  test_case_hits  \\\n",
       "count   434337.000000  434337.000000  434337.000000   426418.000000   \n",
       "mean        11.139997     803.728800    1843.444443       26.622722   \n",
       "std          9.153649      52.135296     632.069444       39.219658   \n",
       "min          1.000000       3.000000       1.000000        0.000000   \n",
       "25%          7.000000     804.000000    1323.000000        0.000000   \n",
       "50%         10.000000     813.000000    1762.000000        0.000000   \n",
       "75%         14.000000     827.000000    2348.000000       53.000000   \n",
       "max       3859.000000     857.000000    3421.000000      100.000000   \n",
       "\n",
       "       user_class_id  \n",
       "count  434337.000000  \n",
       "mean       69.952010  \n",
       "std        27.920784  \n",
       "min         2.000000  \n",
       "25%        54.000000  \n",
       "50%        73.000000  \n",
       "75%        88.000000  \n",
       "max       143.000000  "
      ]
     },
     "execution_count": 5,
     "metadata": {},
     "output_type": "execute_result"
    }
   ],
   "source": [
    "# SQL query\n",
    "sql_query = f\"\"\"SELECT *\n",
    "                FROM questions_userlog\n",
    "                \"\"\"\n",
    "\n",
    "# Load data into a Pandas dataframe\n",
    "solutions_df = pd.read_sql_query(sql_query, connection)\n",
    "\n",
    "solutions_df.describe()\n"
   ]
  },
  {
   "cell_type": "code",
   "execution_count": 6,
   "id": "8ca55abe",
   "metadata": {},
   "outputs": [
    {
     "name": "stdout",
     "output_type": "stream",
     "text": [
      "Number of solutions: 434337\n"
     ]
    }
   ],
   "source": [
    "solutions_count = len(solutions_df)\n",
    "print(f\"Number of solutions: {solutions_count}\")"
   ]
  },
  {
   "cell_type": "markdown",
   "id": "ef6259bd",
   "metadata": {},
   "source": [
    "Comparando corretas e incorretas (P = Passou, F = Falhou, S = ??):"
   ]
  },
  {
   "cell_type": "code",
   "execution_count": 7,
   "id": "ebc5a61a",
   "metadata": {},
   "outputs": [
    {
     "data": {
      "text/plain": [
       "outcome\n",
       "F    361533\n",
       "P     64978\n",
       "S      7826\n",
       "Name: count, dtype: int64"
      ]
     },
     "execution_count": 7,
     "metadata": {},
     "output_type": "execute_result"
    }
   ],
   "source": [
    "solutions_df['outcome'].value_counts()"
   ]
  },
  {
   "cell_type": "markdown",
   "id": "5df99da8",
   "metadata": {},
   "source": [
    "## Quantas são as soluções sem contar as tentativas repetidas em cada questão?"
   ]
  },
  {
   "cell_type": "markdown",
   "id": "762e3c66",
   "metadata": {},
   "source": [
    "Contamos apenas a última solução submetida por um usuário para cada questão.\n",
    "\n",
    "Em outras palavras, queremos o número de soluções com pares únicos de [problem_id, user_id]."
   ]
  },
  {
   "cell_type": "code",
   "execution_count": 8,
   "id": "0ab3b74e",
   "metadata": {},
   "outputs": [
    {
     "name": "stdout",
     "output_type": "stream",
     "text": [
      "Number of unique solutions: 51015\n",
      "Counting only unique solutions, we need look just at 11.7% of the solutions.\n"
     ]
    }
   ],
   "source": [
    "# Count number of solutions with unique problem_id/user_id pairs \n",
    "\n",
    "unique_solutions_count = len(solutions_df.groupby([\"problem_id\", \"user_id\"]))\n",
    "print(f\"Number of unique solutions: {unique_solutions_count}\")\n",
    "percentage = round(unique_solutions_count/solutions_count * 100, 1)\n",
    "print(f\"Counting only unique solutions, we need look just at {percentage}% of the solutions.\")"
   ]
  },
  {
   "cell_type": "markdown",
   "id": "318e4550",
   "metadata": {},
   "source": [
    "## Quais são as estatísticas das soluções únicas?"
   ]
  },
  {
   "cell_type": "markdown",
   "id": "1c502ebd",
   "metadata": {},
   "source": [
    "Gerando um dataframe de soluções únicas"
   ]
  },
  {
   "cell_type": "code",
   "execution_count": 9,
   "id": "b82ef7ce",
   "metadata": {},
   "outputs": [],
   "source": [
    "# Sort the solutions dataframe by 'user_id' and 'problem_id' and 'timestamp' in descending order\n",
    "sorted_solutions_df = solutions_df.sort_values(by=['user_id', 'problem_id', 'timestamp'], ascending=[True, True, True])\n",
    "\n",
    "# Use groupby to group by 'user_id' and 'problem_id' and select the last solution in each group\n",
    "last_solution_df = sorted_solutions_df.groupby(['user_id', 'problem_id']).last().reset_index()"
   ]
  },
  {
   "cell_type": "code",
   "execution_count": 10,
   "id": "523c5d9c",
   "metadata": {},
   "outputs": [
    {
     "data": {
      "text/html": [
       "<div>\n",
       "<style scoped>\n",
       "    .dataframe tbody tr th:only-of-type {\n",
       "        vertical-align: middle;\n",
       "    }\n",
       "\n",
       "    .dataframe tbody tr th {\n",
       "        vertical-align: top;\n",
       "    }\n",
       "\n",
       "    .dataframe thead th {\n",
       "        text-align: right;\n",
       "    }\n",
       "</style>\n",
       "<table border=\"1\" class=\"dataframe\">\n",
       "  <thead>\n",
       "    <tr style=\"text-align: right;\">\n",
       "      <th></th>\n",
       "      <th>user_id</th>\n",
       "      <th>problem_id</th>\n",
       "      <th>id</th>\n",
       "      <th>seconds_in_code</th>\n",
       "      <th>seconds_in_page</th>\n",
       "      <th>seconds_to_begin</th>\n",
       "      <th>solution_lines</th>\n",
       "      <th>test_case_hits</th>\n",
       "      <th>user_class_id</th>\n",
       "    </tr>\n",
       "  </thead>\n",
       "  <tbody>\n",
       "    <tr>\n",
       "      <th>count</th>\n",
       "      <td>51015.000000</td>\n",
       "      <td>51015.000000</td>\n",
       "      <td>51015.000000</td>\n",
       "      <td>51015.000000</td>\n",
       "      <td>51015.000000</td>\n",
       "      <td>51015.000000</td>\n",
       "      <td>51015.000000</td>\n",
       "      <td>50029.000000</td>\n",
       "      <td>51015.000000</td>\n",
       "    </tr>\n",
       "    <tr>\n",
       "      <th>mean</th>\n",
       "      <td>1829.338528</td>\n",
       "      <td>799.172734</td>\n",
       "      <td>351632.839655</td>\n",
       "      <td>506.568735</td>\n",
       "      <td>1785.642635</td>\n",
       "      <td>334.944036</td>\n",
       "      <td>11.333392</td>\n",
       "      <td>93.099083</td>\n",
       "      <td>69.161756</td>\n",
       "    </tr>\n",
       "    <tr>\n",
       "      <th>std</th>\n",
       "      <td>656.720386</td>\n",
       "      <td>63.597801</td>\n",
       "      <td>128877.753572</td>\n",
       "      <td>7900.330112</td>\n",
       "      <td>10297.295393</td>\n",
       "      <td>4604.079000</td>\n",
       "      <td>6.793658</td>\n",
       "      <td>24.535300</td>\n",
       "      <td>29.301950</td>\n",
       "    </tr>\n",
       "    <tr>\n",
       "      <th>min</th>\n",
       "      <td>1.000000</td>\n",
       "      <td>3.000000</td>\n",
       "      <td>84427.000000</td>\n",
       "      <td>0.000000</td>\n",
       "      <td>0.000000</td>\n",
       "      <td>0.000000</td>\n",
       "      <td>1.000000</td>\n",
       "      <td>0.000000</td>\n",
       "      <td>2.000000</td>\n",
       "    </tr>\n",
       "    <tr>\n",
       "      <th>25%</th>\n",
       "      <td>1266.000000</td>\n",
       "      <td>800.000000</td>\n",
       "      <td>235979.500000</td>\n",
       "      <td>42.000000</td>\n",
       "      <td>137.000000</td>\n",
       "      <td>3.000000</td>\n",
       "      <td>7.000000</td>\n",
       "      <td>100.000000</td>\n",
       "      <td>38.000000</td>\n",
       "    </tr>\n",
       "    <tr>\n",
       "      <th>50%</th>\n",
       "      <td>1715.000000</td>\n",
       "      <td>815.000000</td>\n",
       "      <td>351300.000000</td>\n",
       "      <td>126.000000</td>\n",
       "      <td>443.000000</td>\n",
       "      <td>13.000000</td>\n",
       "      <td>10.000000</td>\n",
       "      <td>100.000000</td>\n",
       "      <td>73.000000</td>\n",
       "    </tr>\n",
       "    <tr>\n",
       "      <th>75%</th>\n",
       "      <td>2355.000000</td>\n",
       "      <td>828.000000</td>\n",
       "      <td>464049.000000</td>\n",
       "      <td>251.000000</td>\n",
       "      <td>1150.000000</td>\n",
       "      <td>65.000000</td>\n",
       "      <td>14.000000</td>\n",
       "      <td>100.000000</td>\n",
       "      <td>88.000000</td>\n",
       "    </tr>\n",
       "    <tr>\n",
       "      <th>max</th>\n",
       "      <td>3421.000000</td>\n",
       "      <td>857.000000</td>\n",
       "      <td>568191.000000</td>\n",
       "      <td>940115.000000</td>\n",
       "      <td>504133.000000</td>\n",
       "      <td>499615.000000</td>\n",
       "      <td>123.000000</td>\n",
       "      <td>100.000000</td>\n",
       "      <td>143.000000</td>\n",
       "    </tr>\n",
       "  </tbody>\n",
       "</table>\n",
       "</div>"
      ],
      "text/plain": [
       "            user_id    problem_id             id  seconds_in_code  \\\n",
       "count  51015.000000  51015.000000   51015.000000     51015.000000   \n",
       "mean    1829.338528    799.172734  351632.839655       506.568735   \n",
       "std      656.720386     63.597801  128877.753572      7900.330112   \n",
       "min        1.000000      3.000000   84427.000000         0.000000   \n",
       "25%     1266.000000    800.000000  235979.500000        42.000000   \n",
       "50%     1715.000000    815.000000  351300.000000       126.000000   \n",
       "75%     2355.000000    828.000000  464049.000000       251.000000   \n",
       "max     3421.000000    857.000000  568191.000000    940115.000000   \n",
       "\n",
       "       seconds_in_page  seconds_to_begin  solution_lines  test_case_hits  \\\n",
       "count     51015.000000      51015.000000    51015.000000    50029.000000   \n",
       "mean       1785.642635        334.944036       11.333392       93.099083   \n",
       "std       10297.295393       4604.079000        6.793658       24.535300   \n",
       "min           0.000000          0.000000        1.000000        0.000000   \n",
       "25%         137.000000          3.000000        7.000000      100.000000   \n",
       "50%         443.000000         13.000000       10.000000      100.000000   \n",
       "75%        1150.000000         65.000000       14.000000      100.000000   \n",
       "max      504133.000000     499615.000000      123.000000      100.000000   \n",
       "\n",
       "       user_class_id  \n",
       "count   51015.000000  \n",
       "mean       69.161756  \n",
       "std        29.301950  \n",
       "min         2.000000  \n",
       "25%        38.000000  \n",
       "50%        73.000000  \n",
       "75%        88.000000  \n",
       "max       143.000000  "
      ]
     },
     "execution_count": 10,
     "metadata": {},
     "output_type": "execute_result"
    }
   ],
   "source": [
    "last_solution_df.describe()"
   ]
  },
  {
   "cell_type": "markdown",
   "id": "f94ed790",
   "metadata": {},
   "source": [
    "Comparando corretas e incorretas (P = Passou, F = Falhou, S = ??):"
   ]
  },
  {
   "cell_type": "code",
   "execution_count": 11,
   "id": "939d7333",
   "metadata": {},
   "outputs": [
    {
     "data": {
      "text/plain": [
       "outcome\n",
       "P    45495\n",
       "F     3320\n",
       "S     2200\n",
       "Name: count, dtype: int64"
      ]
     },
     "execution_count": 11,
     "metadata": {},
     "output_type": "execute_result"
    }
   ],
   "source": [
    "last_solution_df['outcome'].value_counts()"
   ]
  },
  {
   "cell_type": "markdown",
   "id": "6a70b249",
   "metadata": {},
   "source": [
    "#"
   ]
  },
  {
   "cell_type": "markdown",
   "id": "6f941ff8",
   "metadata": {},
   "source": [
    "## Quantos são os alunos no banco de dados?"
   ]
  },
  {
   "cell_type": "code",
   "execution_count": 12,
   "id": "a99e9e2f",
   "metadata": {},
   "outputs": [
    {
     "name": "stdout",
     "output_type": "stream",
     "text": [
      "Number of users: 3162\n"
     ]
    },
    {
     "name": "stderr",
     "output_type": "stream",
     "text": [
      "/var/folders/r4/lsk7h_t97_z0qpppcnz96n700000gn/T/ipykernel_12887/3031740989.py:9: UserWarning: pandas only supports SQLAlchemy connectable (engine/connection) or database string URI or sqlite3 DBAPI2 connection. Other DBAPI2 objects are not tested. Please consider using SQLAlchemy.\n",
      "  students_df = pd.read_sql_query(sql_query, connection)\n"
     ]
    }
   ],
   "source": [
    "# TODO cortar os usuarios que são staff ou não estao ativos\n",
    "\n",
    "# SQL query\n",
    "sql_query = f\"\"\"SELECT id\n",
    "                FROM auth_user\n",
    "                \"\"\"\n",
    "\n",
    "# Load data into a Pandas dataframe\n",
    "students_df = pd.read_sql_query(sql_query, connection)\n",
    "\n",
    "# Count lines\n",
    "print(f\"Number of users: {len(students_df)}\")"
   ]
  },
  {
   "cell_type": "markdown",
   "id": "693d225f",
   "metadata": {},
   "source": [
    "## Como é o histograma do número de soluções por questão?"
   ]
  },
  {
   "cell_type": "code",
   "execution_count": 13,
   "id": "4aa97be6",
   "metadata": {},
   "outputs": [
    {
     "name": "stdout",
     "output_type": "stream",
     "text": [
      "Number of questions with solutions: 138\n"
     ]
    }
   ],
   "source": [
    "sols_per_question = last_solution_df.groupby(['problem_id'])['id'].count()\n",
    "print(f\"Number of questions with solutions: {len(sols_per_question)}\")"
   ]
  },
  {
   "cell_type": "markdown",
   "id": "f942d087",
   "metadata": {},
   "source": [
    "Como queremos apenas as questões que possuem pelo menos 2 soluções, vamos retirar aquelas que possuem apenas 1 solução:"
   ]
  },
  {
   "cell_type": "code",
   "execution_count": 14,
   "id": "7b33084e",
   "metadata": {},
   "outputs": [
    {
     "name": "stdout",
     "output_type": "stream",
     "text": [
      "Number of questions with more than one solution: 124\n"
     ]
    }
   ],
   "source": [
    "sols_per_question = sols_per_question[sols_per_question > 1]\n",
    "print(f\"Number of questions with more than one solution: {len(sols_per_question)}\")"
   ]
  },
  {
   "cell_type": "markdown",
   "id": "e1dd864b",
   "metadata": {},
   "source": [
    "### Histograma Original"
   ]
  },
  {
   "cell_type": "code",
   "execution_count": 15,
   "id": "561c0479",
   "metadata": {},
   "outputs": [
    {
     "data": {
      "image/png": "[encoded data removed]",
      "text/plain": [
       "<Figure size 640x480 with 1 Axes>"
      ]
     },
     "metadata": {},
     "output_type": "display_data"
    }
   ],
   "source": [
    "sols_per_question.hist(bins=range(0, 2001, 250))\n",
    "\n",
    "# Add labels and a title\n",
    "plt.xlabel('Número de Soluções')\n",
    "plt.ylabel('Número de Questões')\n",
    "plt.title('Histograma do Número de Soluções por Questão')\n",
    "\n",
    "# Show the histogram\n",
    "plt.show()"
   ]
  },
  {
   "cell_type": "code",
   "execution_count": 16,
   "id": "031e9054",
   "metadata": {},
   "outputs": [
    {
     "data": {
      "text/plain": [
       "count     124.000000\n",
       "mean      411.298387\n",
       "std       554.354939\n",
       "min         2.000000\n",
       "25%         6.000000\n",
       "50%        23.500000\n",
       "75%      1013.500000\n",
       "max      1813.000000\n",
       "Name: id, dtype: float64"
      ]
     },
     "execution_count": 16,
     "metadata": {},
     "output_type": "execute_result"
    }
   ],
   "source": [
    "sols_per_question.describe()"
   ]
  },
  {
   "cell_type": "markdown",
   "id": "31ed1372",
   "metadata": {},
   "source": [
    "### Avaliando questões com poucas soluções (<= 50)"
   ]
  },
  {
   "cell_type": "code",
   "execution_count": 17,
   "id": "194d29c0",
   "metadata": {},
   "outputs": [
    {
     "name": "stdout",
     "output_type": "stream",
     "text": [
      "Number of questions with less than 250 solutions: 77\n"
     ]
    },
    {
     "data": {
      "text/plain": [
       "Text(0.5, 1.0, 'Histograma Soluções por Questão (< 250 soluções)')"
      ]
     },
     "execution_count": 17,
     "metadata": {},
     "output_type": "execute_result"
    },
    {
     "data": {
      "image/png": "[encoded data removed]",
      "text/plain": [
       "<Figure size 640x480 with 1 Axes>"
      ]
     },
     "metadata": {},
     "output_type": "display_data"
    }
   ],
   "source": [
    "few_sols_series = sols_per_question[sols_per_question < 250]\n",
    "few_sols_series.hist(bins=range(0, 51, 10))\n",
    "\n",
    "print(f\"Number of questions with less than 250 solutions: {len(few_sols_series)}\")\n",
    "\n",
    "# Add labels and a title\n",
    "plt.xlabel('Número de Soluções')\n",
    "plt.ylabel('Número de Questões')\n",
    "plt.title('Histograma Soluções por Questão (< 250 soluções)')"
   ]
  },
  {
   "cell_type": "code",
   "execution_count": 19,
   "id": "b81461a6",
   "metadata": {},
   "outputs": [
    {
     "data": {
      "text/plain": [
       "count    77.000000\n",
       "mean     12.467532\n",
       "std      10.665469\n",
       "min       2.000000\n",
       "25%       4.000000\n",
       "50%       7.000000\n",
       "75%      21.000000\n",
       "max      50.000000\n",
       "Name: id, dtype: float64"
      ]
     },
     "execution_count": 19,
     "metadata": {},
     "output_type": "execute_result"
    }
   ],
   "source": [
    "few_sols_series.describe()"
   ]
  },
  {
   "cell_type": "markdown",
   "id": "1e5983e0",
   "metadata": {},
   "source": [
    "### Avaliando questões com muitas soluções (> 250)"
   ]
  },
  {
   "cell_type": "code",
   "execution_count": 18,
   "metadata": {},
   "outputs": [
    {
     "name": "stdout",
     "output_type": "stream",
     "text": [
      "Number of questions with more than 250 solutions: 47\n"
     ]
    },
    {
     "data": {
      "text/plain": [
       "Text(0.5, 1.0, 'Histograma Soluções por Questão (> 250 soluções)')"
      ]
     },
     "execution_count": 18,
     "metadata": {},
     "output_type": "execute_result"
    },
    {
     "data": {
      "image/png": "[encoded data removed]",
      "text/plain": [
       "<Figure size 640x480 with 1 Axes>"
      ]
     },
     "metadata": {},
     "output_type": "display_data"
    }
   ],
   "source": [
    "many_sols_series = sols_per_question[sols_per_question > 250]\n",
    "many_sols_series.hist(bins=range(250, 2001, 250))\n",
    "\n",
    "print(f\"Number of questions with more than 250 solutions: {len(many_sols_series)}\")\n",
    "\n",
    "# Add labels and a title\n",
    "plt.xlabel('Número de Soluções')\n",
    "plt.ylabel('Número de Questões')\n",
    "plt.title('Histograma Soluções por Questão (> 250 soluções)')"
   ]
  },
  {
   "cell_type": "code",
   "execution_count": 65,
   "id": "b9cb945f",
   "metadata": {},
   "outputs": [
    {
     "data": {
      "text/plain": [
       "count      47.000000\n",
       "mean     1064.702128\n",
       "std       345.036603\n",
       "min       492.000000\n",
       "25%       824.500000\n",
       "50%      1065.000000\n",
       "75%      1245.000000\n",
       "max      1813.000000\n",
       "Name: id, dtype: float64"
      ]
     },
     "execution_count": 65,
     "metadata": {},
     "output_type": "execute_result"
    }
   ],
   "source": [
    "many_sols_series.describe()"
   ]
  },
  {
   "cell_type": "markdown",
   "id": "cf6a6f5b",
   "metadata": {},
   "source": [
    "# Análise dos Dados do Overcode"
   ]
  },
  {
   "cell_type": "markdown",
   "id": "d612ccd0",
   "metadata": {},
   "source": [
    "## Teste com Problema Individual"
   ]
  },
  {
   "cell_type": "markdown",
   "id": "f5f03cd9",
   "metadata": {},
   "source": [
    "### Coletar dados do Machine Teaching e processar com Overcode"
   ]
  },
  {
   "cell_type": "code",
   "execution_count": 25,
   "id": "a5588a6e",
   "metadata": {},
   "outputs": [
    {
     "name": "stdout",
     "output_type": "stream",
     "text": [
      "Master Script finished running for problem 12.\n",
      "Master Script finished running for problem 730.\n",
      "Master Script finished running for problem 732.\n",
      "Master Script finished running for problem 759.\n",
      "Master Script finished running for problem 763.\n",
      "Master Script finished running for problem 764.\n",
      "Master Script finished running for problem 769.\n",
      "Master Script finished running for problem 772.\n",
      "Master Script finished running for problem 774.\n",
      "Master Script finished running for problem 776.\n",
      "Master Script finished running for problem 778.\n",
      "Master Script finished running for problem 786.\n",
      "Master Script finished running for problem 787.\n",
      "Master Script finished running for problem 788.\n",
      "Master Script finished running for problem 789.\n",
      "Master Script finished running for problem 844.\n",
      "Master Script finished running for problem 845.\n",
      "Master Script finished running for problem 846.\n",
      "Master Script finished running for problem 847.\n",
      "Master Script finished running for problem 856.\n",
      "Problems with error during master script execution: [3, 4, 6, 7, 13, 14, 28, 38, 76, 105, 109, 110, 118, 120, 121, 126]\n"
     ]
    }
   ],
   "source": [
    "from master_script import run_master_script\n",
    "\n",
    "problems_with_error = []\n",
    "\n",
    "for problem_id in few_sols_series.index:\n",
    "  try:\n",
    "    run_master_script(problem_id, interface=False)\n",
    "  except:\n",
    "    problems_with_error.append(problem_id)\n",
    "\n",
    "print(f\"Problems with error during master script execution: {problems_with_error}\")"
   ]
  },
  {
   "cell_type": "code",
   "execution_count": 1,
   "id": "aa87294a",
   "metadata": {},
   "outputs": [
    {
     "name": "stdout",
     "output_type": "stream",
     "text": [
      "removing:  print(sum([A for A in range(int(input(\"3\")), int(input(\"7\")) + 1) if A % 2 == 0]))\n",
      "expected ':' (python_minifier.minify source, line 1)\n",
      "Running logger on 2214\n",
      "stdout\n",
      "[0, 1, 2, 3, 4, 5, 6, 7, 8, 9]\n",
      "\n",
      "0.4576950000000002\n",
      "stdout\n",
      "[0, 1, 2, 3, 4, 5, 6, 7, 8, 9]\n",
      "\n",
      "0.46266000000000007\n",
      "stdout\n",
      "[0, 1, 2, 3, 4, 5, 6, 7, 8, 9]\n",
      "\n",
      "0.4678810000000002\n",
      "stdout\n",
      "[0, 1, 2, 3, 4, 5, 6, 7, 8, 9]\n",
      "\n",
      "0.471627\n",
      "stdout\n",
      "[0, 1, 2, 3, 4, 5, 6, 7, 8, 9]\n",
      "\n",
      "0.4768450000000002\n",
      "stdout\n",
      "[0, 1, 2, 3, 4, 5, 6, 7, 8, 9]\n",
      "\n",
      "0.4801770000000001\n",
      "stdout\n",
      "[0, 1, 2, 3, 4, 5, 6, 7, 8, 9]\n",
      "\n",
      "0.48321800000000015\n",
      "stdout\n",
      "[0, 1, 2, 3, 4, 5, 6, 7, 8, 9]\n",
      "\n",
      "0.4887730000000001\n",
      "stdout\n",
      "[0, 1, 2, 3, 4, 5, 6, 7, 8, 9]\n",
      "\n",
      "0.4950420000000002\n",
      "stdout\n",
      "[0, 1, 2, 3, 4, 5, 6, 7, 8, 9]\n",
      "\n",
      "0.4994740000000002\n",
      "Running logger on answer\n",
      "stdout\n",
      "[0, 1, 2, 3, 4, 5, 6, 7, 8, 9, 10, 11, 12, 13, 14, 15, 16, 17, 18, 19, 20, 21, 22, 23, 24, 25, 26, 27, 28, 29, 30, 31, 32, 33, 34, 35, 36, 37, 38, 39, 40, 41, 42, 43, 44, 45, 46, 47, 48, 49, 50, 51, 52, 53, 54, 55, 56, 57, 58, 59, 60, 61, 62, 63, 64, 65, 66, 67, 68, 69, 70, 71, 72, 73, 74, 75, 76, 77, 78, 79, 80, 81, 82, 83, 84, 85, 86, 87, 88, 89, 90, 91, 92, 93, 94, 95, 96, 97, 98, 99, 100, 101, 102, 103, 104, 105, 106, 107, 108, 109, 110, 111, 112, 113, 114, 115, 116, 117, 118, 119, 120, 121, 122, 123, 124, 125, 126, 127, 128, 129, 130, 131, 132, 133, 134, 135, 136, 137, 138, 139, 140, 141, 142, 143, 144, 145, 146, 147, 148, 149, 150, 151, 152, 153, 154, 155, 156, 157, 158, 159, 160, 161, 162, 163, 164, 165, 166, 167, 168, 169, 170, 171, 172, 173, 174, 175, 176, 177, 178, 179, 180, 181, 182, 183, 184, 185, 186, 187, 188, 189, 190, 191, 192, 193, 194, 195, 196, 197, 198, 199, 200, 201, 202, 203, 204, 205, 206, 207, 208, 209, 210, 211, 212, 213, 214, 215, 216, 217, 218, 219, 220, 221, 222, 223, 224, 225, 226, 227, 228, 229, 230, 231, 232, 233, 234, 235, 236, 237, 238, 239, 240, 241, 242, 243, 244, 245, 246, 247, 248, 249, 250, 251, 252, 253, 254, 255, 256, 257, 258, 259, 260, 261, 262, 263, 264, 265, 266, 267, 268, 269, 270, 271, 272, 273, 274, 275, 276, 277, 278, 279, 280, 281, 282, 283, 284, 285, 286, 287, 288, 289, 290, 291, 292, 293, 294, 295, 296, 297, 298, 299, 300, 301, 302, 303, 304, 305, 306, 307, 308, 309, 310, 311, 312, 313, 314, 315, 316, 317, 318, 319, 320, 321, 322, 323, 324, 325, 326, 327, 328, 329, 330, 331, 332, 333, 334, 335, 336, 337, 338, 339, 340, 341, 342, 343, 344, 345, 346, 347, 348, 349, 350, 351, 352, 353, 354, 355, 356, 357, 358, 359, 360, 361, 362, 363, 364, 365, 366, 367, 368, 369, 370, 371, 372, 373, 374, 375, 376, 377, 378, 379, 380, 381, 382, 383, 384, 385, 386, 387, 388, 389, 390, 391, 392, 393, 394, 395, 396, 397, 398, 399, 400, 401, 402, 403, 404, 405, 406, 407, 408, 409, 410, 411, 412, 413, 414, 415, 416, 417, 418, 419, 420, 421, 422, 423, 424, 425, 426, 427, 428, 429, 430, 431, 432, 433, 434, 435, 436, 437, 438, 439, 440, 441, 442, 443, 444, 445, 446, 447, 448, 449, 450, 451, 452, 453, 454, 455, 456, 457, 458, 459, 460, 461, 462, 463, 464, 465, 466, 467, 468, 469, 470, 471, 472, 473, 474, 475, 476, 477, 478, 479, 480, 481, 482, 483, 484, 485, 486, 487, 488, 489, 490, 491, 492, 493, 494, 495, 496, 497, 498, 499, 500, 501, 502, 503, 504, 505, 506, 507, 508, 509, 510, 511, 512, 513, 514, 515, 516, 517, 518, 519, 520, 521, 522, 523, 524, 525, 526, 527, 528, 529, 530, 531, 532, 533, 534, 535, 536, 537, 538, 539, 540, 541, 542, 543, 544, 545, 546, 547, 548, 549, 550, 551, 552, 553, 554, 555, 556, 557, 558, 559, 560, 561, 562, 563, 564, 565, 566, 567, 568, 569, 570, 571, 572, 573, 574, 575, 576, 577, 578, 579, 580, 581, 582, 583, 584, 585, 586, 587, 588, 589, 590, 591, 592, 593, 594, 595, 596, 597, 598, 599, 600, 601, 602, 603, 604, 605, 606, 607, 608, 609, 610, 611, 612, 613, 614, 615, 616, 617, 618, 619, 620, 621, 622, 623, 624, 625, 626, 627, 628, 629, 630]\n",
      "15129\n",
      "\n",
      "0.7423160000000002\n",
      "stdout\n",
      "[0, 1, 2, 3, 4, 5, 6, 7, 8, 9, 10, 11, 12, 13, 14, 15, 16, 17, 18, 19, 20, 21, 22, 23, 24, 25, 26, 27, 28, 29, 30, 31, 32, 33, 34, 35, 36, 37, 38, 39, 40, 41, 42, 43, 44, 45, 46, 47, 48, 49, 50, 51, 52, 53, 54, 55, 56, 57, 58, 59, 60, 61, 62, 63, 64, 65, 66, 67, 68, 69, 70, 71, 72, 73, 74, 75, 76, 77, 78, 79, 80, 81, 82, 83, 84, 85, 86, 87, 88, 89, 90, 91, 92, 93, 94, 95, 96, 97, 98, 99, 100, 101, 102, 103, 104, 105, 106, 107, 108, 109, 110, 111, 112, 113, 114, 115, 116, 117, 118, 119, 120, 121, 122, 123, 124, 125, 126, 127, 128, 129, 130, 131, 132, 133, 134, 135, 136, 137, 138, 139, 140, 141, 142, 143, 144, 145, 146, 147, 148, 149, 150, 151, 152, 153, 154, 155, 156, 157, 158, 159, 160, 161, 162, 163, 164, 165, 166, 167, 168, 169, 170, 171, 172, 173, 174, 175, 176, 177, 178, 179, 180, 181, 182, 183, 184, 185, 186, 187, 188, 189, 190, 191, 192, 193, 194, 195, 196, 197, 198, 199, 200, 201, 202, 203, 204, 205, 206, 207, 208, 209, 210, 211, 212, 213, 214, 215, 216, 217, 218, 219, 220, 221, 222, 223, 224, 225, 226, 227, 228, 229, 230, 231, 232, 233, 234, 235, 236, 237, 238, 239, 240, 241, 242, 243, 244, 245, 246, 247, 248, 249, 250, 251, 252, 253, 254, 255, 256, 257, 258, 259, 260, 261, 262, 263, 264, 265, 266, 267, 268, 269, 270, 271, 272, 273, 274, 275, 276, 277, 278, 279, 280, 281, 282, 283, 284, 285, 286, 287, 288, 289, 290, 291, 292, 293, 294, 295, 296, 297, 298, 299, 300, 301, 302, 303, 304, 305, 306, 307, 308, 309, 310, 311, 312, 313, 314, 315, 316, 317, 318, 319, 320, 321, 322, 323, 324, 325, 326, 327, 328, 329, 330, 331, 332, 333, 334, 335, 336, 337, 338, 339, 340, 341, 342, 343, 344, 345, 346, 347, 348, 349, 350, 351, 352, 353, 354, 355, 356, 357, 358, 359, 360, 361, 362, 363, 364, 365, 366, 367, 368, 369, 370, 371, 372, 373, 374, 375, 376, 377, 378, 379, 380, 381, 382, 383, 384, 385, 386, 387, 388, 389, 390, 391, 392, 393, 394, 395, 396, 397, 398, 399, 400, 401, 402, 403, 404, 405, 406, 407, 408, 409, 410, 411, 412, 413, 414, 415, 416, 417, 418, 419, 420, 421, 422, 423, 424, 425, 426, 427, 428, 429, 430, 431, 432, 433, 434, 435, 436, 437, 438, 439, 440, 441, 442, 443, 444, 445, 446, 447, 448, 449, 450, 451, 452, 453, 454, 455, 456, 457, 458, 459, 460, 461, 462, 463, 464, 465, 466, 467, 468, 469, 470, 471, 472, 473, 474, 475, 476, 477, 478, 479, 480, 481, 482, 483, 484, 485, 486, 487, 488, 489, 490, 491, 492, 493, 494, 495, 496, 497, 498, 499, 500, 501, 502, 503, 504, 505, 506, 507, 508, 509, 510, 511, 512, 513, 514, 515, 516, 517, 518, 519, 520, 521, 522, 523, 524, 525, 526, 527, 528, 529, 530, 531, 532, 533, 534, 535, 536, 537, 538, 539, 540, 541, 542, 543, 544, 545, 546, 547, 548, 549, 550, 551, 552, 553, 554, 555, 556, 557, 558, 559, 560, 561, 562, 563, 564, 565, 566, 567, 568, 569, 570, 571, 572, 573, 574, 575, 576, 577, 578, 579, 580, 581, 582, 583, 584, 585, 586, 587, 588, 589, 590, 591, 592, 593, 594, 595, 596, 597, 598, 599, 600, 601, 602, 603, 604, 605, 606, 607, 608, 609, 610, 611, 612, 613, 614, 615, 616, 617, 618, 619, 620, 621, 622, 623, 624, 625, 626, 627, 628, 629, 630]\n",
      "15129\n",
      "\n",
      "0.9342520000000003\n",
      "stdout\n",
      "[0, 1, 2, 3, 4, 5, 6, 7, 8, 9, 10, 11, 12, 13, 14, 15, 16, 17, 18, 19, 20, 21, 22, 23, 24, 25, 26, 27, 28, 29, 30, 31, 32, 33, 34, 35, 36, 37, 38, 39, 40, 41, 42, 43, 44, 45, 46, 47, 48, 49, 50, 51, 52, 53, 54, 55, 56, 57, 58, 59, 60, 61, 62, 63, 64, 65, 66, 67, 68, 69, 70, 71, 72, 73, 74, 75, 76, 77, 78, 79, 80, 81, 82, 83, 84, 85, 86, 87, 88, 89, 90, 91, 92, 93, 94, 95, 96, 97, 98, 99, 100, 101, 102, 103, 104, 105, 106, 107, 108, 109, 110, 111, 112, 113, 114, 115, 116, 117, 118, 119, 120, 121, 122, 123, 124, 125, 126, 127, 128, 129, 130, 131, 132, 133, 134, 135, 136, 137, 138, 139, 140, 141, 142, 143, 144, 145, 146, 147, 148, 149, 150, 151, 152, 153, 154, 155, 156, 157, 158, 159, 160, 161, 162, 163, 164, 165, 166, 167, 168, 169, 170, 171, 172, 173, 174, 175, 176, 177, 178, 179, 180, 181, 182, 183, 184, 185, 186, 187, 188, 189, 190, 191, 192, 193, 194, 195, 196, 197, 198, 199, 200, 201, 202, 203, 204, 205, 206, 207, 208, 209, 210, 211, 212, 213, 214, 215, 216, 217, 218, 219, 220, 221, 222, 223, 224, 225, 226, 227, 228, 229, 230, 231, 232, 233, 234, 235, 236, 237, 238, 239, 240, 241, 242, 243, 244, 245, 246, 247, 248, 249, 250, 251, 252, 253, 254, 255, 256, 257, 258, 259, 260, 261, 262, 263, 264, 265, 266, 267, 268, 269, 270, 271, 272, 273, 274, 275, 276, 277, 278, 279, 280, 281, 282, 283, 284, 285, 286, 287, 288, 289, 290, 291, 292, 293, 294, 295, 296, 297, 298, 299, 300, 301, 302, 303, 304, 305, 306, 307, 308, 309, 310, 311, 312, 313, 314, 315]\n",
      "3600\n",
      "\n",
      "1.0428790000000001\n",
      "stdout\n",
      "[0, 1, 2, 3, 4, 5, 6, 7, 8, 9, 10, 11, 12, 13, 14, 15, 16, 17, 18, 19, 20, 21, 22, 23, 24, 25, 26, 27, 28, 29, 30, 31, 32, 33, 34, 35, 36, 37, 38, 39, 40, 41, 42, 43, 44, 45, 46, 47, 48, 49, 50, 51, 52, 53, 54, 55, 56, 57, 58, 59, 60, 61, 62, 63, 64, 65, 66, 67, 68, 69, 70, 71, 72, 73, 74, 75, 76, 77, 78, 79, 80, 81, 82, 83, 84, 85]\n",
      "196\n",
      "\n",
      "1.072607\n",
      "stdout\n",
      "[0, 1, 2, 3, 4, 5, 6, 7, 8, 9, 10, 11, 12, 13, 14, 15, 16, 17, 18, 19, 20, 21, 22, 23, 24, 25, 26, 27, 28, 29, 30, 31, 32, 33, 34, 35, 36, 37, 38, 39, 40, 41, 42, 43, 44, 45, 46, 47, 48, 49, 50]\n",
      "49\n",
      "\n",
      "1.0900760000000003\n",
      "stdout\n",
      "[0, 1, 2, 3, 4, 5, 6, 7, 8, 9, 10, 11, 12, 13, 14, 15, 16, 17, 18, 19, 20, 21, 22, 23, 24, 25, 26, 27, 28, 29, 30, 31, 32, 33, 34, 35, 36, 37, 38, 39, 40, 41, 42, 43, 44, 45, 46, 47, 48, 49, 50, 51, 52, 53, 54, 55, 56, 57, 58, 59, 60, 61, 62, 63, 64, 65, 66, 67, 68, 69, 70, 71, 72, 73, 74, 75, 76, 77, 78, 79, 80, 81, 82, 83, 84, 85, 86, 87, 88, 89, 90, 91, 92, 93, 94, 95, 96, 97, 98, 99, 100, 101, 102, 103, 104, 105, 106, 107, 108, 109, 110, 111, 112, 113, 114, 115, 116, 117, 118, 119, 120, 121, 122, 123, 124, 125, 126, 127, 128, 129, 130, 131, 132, 133, 134, 135, 136, 137, 138, 139, 140, 141, 142, 143, 144, 145, 146, 147, 148, 149, 150, 151, 152, 153, 154, 155, 156, 157, 158, 159, 160, 161, 162, 163, 164, 165, 166, 167, 168, 169, 170, 171, 172, 173, 174, 175, 176, 177, 178, 179, 180, 181, 182, 183, 184, 185, 186, 187, 188, 189, 190, 191, 192, 193, 194, 195, 196, 197, 198, 199, 200, 201, 202, 203, 204, 205, 206, 207, 208, 209, 210, 211, 212, 213, 214, 215, 216, 217, 218, 219, 220, 221, 222, 223, 224, 225, 226, 227, 228, 229, 230, 231, 232, 233, 234, 235, 236, 237, 238, 239, 240, 241, 242, 243, 244, 245, 246, 247, 248, 249, 250, 251, 252, 253, 254, 255, 256, 257, 258, 259, 260, 261, 262, 263, 264, 265, 266, 267, 268, 269, 270, 271, 272, 273, 274, 275, 276, 277, 278, 279, 280, 281, 282, 283, 284, 285, 286, 287, 288, 289, 290, 291, 292, 293, 294, 295, 296, 297, 298, 299, 300, 301, 302, 303, 304, 305, 306, 307, 308, 309, 310, 311, 312, 313, 314, 315, 316, 317, 318, 319, 320, 321, 322, 323, 324, 325, 326, 327, 328, 329, 330, 331, 332, 333, 334, 335, 336, 337, 338, 339, 340, 341, 342, 343, 344, 345, 346, 347, 348, 349, 350, 351, 352, 353, 354, 355, 356, 357, 358, 359, 360, 361, 362, 363, 364, 365, 366, 367, 368, 369, 370, 371, 372, 373, 374, 375, 376, 377, 378, 379, 380, 381, 382, 383, 384, 385, 386, 387, 388, 389, 390, 391, 392, 393, 394, 395, 396, 397, 398, 399, 400, 401, 402, 403, 404, 405, 406, 407, 408, 409, 410, 411, 412, 413, 414, 415, 416, 417, 418, 419, 420, 421, 422, 423, 424, 425, 426, 427, 428, 429, 430, 431, 432, 433, 434, 435, 436, 437, 438, 439, 440, 441, 442, 443, 444, 445, 446, 447, 448, 449, 450, 451, 452, 453, 454, 455, 456, 457, 458, 459, 460, 461, 462, 463, 464, 465, 466, 467, 468, 469, 470, 471, 472, 473, 474, 475, 476, 477, 478, 479, 480, 481, 482, 483, 484, 485, 486, 487, 488, 489, 490, 491, 492, 493, 494, 495, 496, 497, 498, 499, 500, 501, 502, 503, 504, 505, 506, 507, 508, 509, 510, 511, 512, 513, 514, 515, 516, 517, 518, 519, 520, 521, 522, 523, 524, 525, 526, 527, 528, 529, 530, 531, 532, 533, 534, 535, 536, 537, 538, 539, 540, 541, 542, 543, 544, 545, 546, 547, 548, 549, 550, 551, 552, 553, 554, 555, 556, 557, 558, 559, 560, 561, 562, 563, 564, 565, 566, 567, 568, 569, 570, 571, 572, 573, 574, 575, 576, 577, 578, 579, 580, 581, 582, 583, 584, 585, 586, 587, 588, 589, 590, 591, 592, 593, 594, 595, 596, 597, 598, 599, 600, 601, 602, 603, 604, 605, 606, 607, 608, 609, 610, 611, 612, 613, 614, 615, 616, 617, 618, 619, 620, 621, 622, 623, 624, 625, 626, 627, 628, 629, 630, 631, 632, 633, 634, 635, 636, 637, 638, 639, 640, 641, 642, 643, 644, 645, 646, 647, 648, 649, 650, 651, 652, 653, 654, 655]\n",
      "16384\n",
      "\n",
      "1.286403\n",
      "stdout\n",
      "[0, 1, 2, 3, 4, 5, 6, 7, 8, 9, 10, 11, 12, 13, 14, 15, 16, 17, 18, 19, 20, 21, 22, 23, 24, 25, 26, 27, 28, 29, 30, 31, 32, 33, 34, 35, 36, 37, 38, 39, 40, 41, 42, 43, 44, 45, 46, 47, 48, 49, 50, 51, 52, 53, 54, 55, 56, 57, 58, 59, 60, 61, 62, 63, 64, 65, 66, 67, 68, 69, 70, 71, 72, 73, 74, 75, 76, 77, 78, 79, 80, 81, 82, 83, 84, 85, 86, 87, 88, 89, 90, 91, 92, 93, 94, 95, 96, 97, 98, 99, 100, 101, 102, 103, 104, 105, 106, 107, 108, 109, 110, 111, 112, 113, 114, 115, 116, 117, 118, 119, 120, 121, 122, 123, 124, 125, 126, 127, 128, 129, 130, 131, 132, 133, 134, 135, 136, 137, 138, 139, 140, 141, 142, 143, 144, 145, 146, 147, 148, 149, 150, 151, 152, 153, 154, 155, 156, 157, 158, 159, 160, 161, 162, 163, 164, 165, 166, 167, 168, 169, 170, 171, 172, 173, 174, 175, 176, 177, 178, 179, 180, 181, 182, 183, 184, 185, 186, 187, 188, 189, 190, 191, 192, 193, 194, 195, 196, 197, 198, 199, 200, 201, 202, 203, 204, 205, 206, 207, 208, 209, 210, 211, 212, 213, 214, 215, 216, 217, 218, 219, 220, 221, 222, 223, 224, 225, 226, 227, 228, 229, 230, 231, 232, 233, 234, 235, 236, 237, 238, 239, 240, 241, 242, 243, 244, 245, 246, 247, 248, 249, 250, 251, 252, 253, 254, 255, 256, 257, 258, 259, 260, 261, 262, 263, 264, 265, 266, 267, 268, 269, 270, 271, 272, 273, 274, 275, 276, 277, 278, 279, 280, 281, 282, 283, 284, 285, 286, 287, 288, 289, 290, 291, 292, 293, 294, 295, 296, 297, 298, 299, 300, 301, 302, 303, 304, 305, 306, 307, 308, 309, 310, 311, 312, 313, 314, 315]\n",
      "3600\n",
      "\n",
      "1.442243\n",
      "stdout\n",
      "[0, 1, 2, 3, 4, 5, 6, 7, 8, 9, 10, 11, 12, 13, 14, 15, 16, 17, 18, 19, 20, 21, 22, 23, 24, 25, 26, 27, 28, 29, 30, 31, 32, 33, 34, 35, 36, 37, 38, 39, 40, 41, 42, 43, 44, 45, 46, 47, 48, 49, 50, 51, 52, 53, 54, 55, 56, 57, 58, 59, 60, 61, 62, 63, 64, 65, 66, 67, 68, 69, 70, 71, 72, 73, 74, 75, 76, 77, 78, 79, 80, 81, 82, 83, 84, 85, 86, 87, 88, 89, 90, 91, 92, 93, 94, 95, 96, 97, 98, 99, 100, 101, 102, 103, 104, 105, 106, 107, 108, 109, 110, 111, 112, 113, 114, 115, 116, 117, 118, 119, 120, 121, 122, 123, 124, 125, 126, 127, 128, 129, 130, 131, 132, 133, 134, 135, 136, 137, 138, 139, 140, 141, 142, 143, 144, 145, 146, 147, 148, 149, 150, 151, 152, 153, 154, 155, 156, 157, 158, 159, 160, 161, 162, 163, 164, 165, 166, 167, 168, 169, 170, 171, 172, 173, 174, 175, 176, 177, 178, 179, 180, 181, 182, 183, 184, 185, 186, 187, 188, 189, 190, 191, 192, 193, 194, 195, 196, 197, 198, 199, 200, 201, 202, 203, 204, 205, 206, 207, 208, 209, 210, 211, 212, 213, 214, 215, 216, 217, 218, 219, 220, 221, 222, 223, 224, 225, 226, 227, 228, 229, 230, 231, 232, 233, 234, 235]\n",
      "1936\n",
      "\n",
      "1.520597\n",
      "stdout\n",
      "[0, 1, 2, 3, 4, 5, 6, 7, 8, 9, 10, 11, 12, 13, 14, 15, 16, 17, 18, 19, 20, 21, 22, 23, 24, 25, 26, 27, 28, 29, 30, 31, 32, 33, 34, 35, 36, 37, 38, 39, 40, 41, 42, 43, 44, 45, 46, 47, 48, 49, 50, 51, 52, 53, 54, 55, 56, 57, 58, 59, 60, 61, 62, 63, 64, 65, 66, 67, 68, 69, 70, 71, 72, 73, 74, 75, 76, 77, 78, 79, 80, 81, 82, 83, 84, 85, 86, 87, 88, 89, 90, 91, 92, 93, 94, 95, 96, 97, 98, 99, 100, 101, 102, 103, 104, 105, 106, 107, 108, 109, 110, 111, 112, 113, 114, 115, 116, 117, 118, 119, 120, 121, 122, 123, 124, 125, 126, 127, 128, 129, 130, 131, 132, 133, 134, 135, 136, 137, 138, 139, 140, 141, 142, 143, 144, 145, 146, 147, 148, 149, 150, 151, 152, 153, 154, 155, 156, 157, 158, 159, 160, 161, 162, 163, 164, 165, 166, 167, 168, 169, 170, 171, 172, 173, 174, 175, 176, 177, 178, 179, 180, 181, 182, 183, 184, 185, 186, 187, 188, 189, 190, 191, 192, 193, 194, 195, 196, 197, 198, 199, 200, 201, 202, 203, 204, 205, 206, 207, 208, 209, 210, 211, 212, 213, 214, 215, 216, 217, 218, 219, 220, 221, 222, 223, 224, 225, 226, 227, 228, 229, 230, 231, 232, 233, 234, 235, 236, 237, 238, 239, 240, 241, 242, 243, 244, 245, 246, 247, 248, 249, 250, 251, 252, 253, 254, 255, 256, 257, 258, 259, 260, 261, 262, 263, 264, 265, 266, 267, 268, 269, 270, 271, 272, 273, 274, 275, 276, 277, 278, 279, 280, 281, 282, 283, 284, 285, 286, 287, 288, 289, 290, 291, 292, 293, 294, 295, 296, 297, 298, 299, 300, 301, 302, 303, 304, 305, 306, 307, 308, 309, 310, 311, 312, 313, 314, 315, 316, 317, 318, 319, 320, 321, 322, 323, 324, 325, 326, 327, 328, 329, 330, 331, 332, 333, 334, 335, 336, 337, 338, 339, 340, 341, 342, 343, 344, 345, 346, 347, 348, 349, 350, 351, 352, 353, 354, 355, 356, 357, 358, 359, 360, 361, 362, 363, 364, 365, 366, 367, 368, 369, 370, 371, 372, 373, 374, 375, 376, 377, 378, 379, 380, 381, 382, 383, 384, 385, 386, 387, 388, 389, 390, 391, 392, 393, 394, 395, 396, 397, 398, 399, 400, 401, 402, 403, 404, 405, 406, 407, 408, 409, 410, 411, 412, 413, 414, 415, 416, 417, 418, 419, 420, 421, 422, 423, 424, 425, 426, 427, 428, 429, 430, 431, 432, 433, 434, 435, 436, 437, 438, 439, 440, 441, 442, 443, 444, 445, 446, 447, 448, 449, 450, 451, 452, 453, 454, 455, 456, 457, 458, 459, 460, 461, 462, 463, 464, 465, 466, 467, 468, 469, 470, 471, 472, 473, 474, 475, 476, 477, 478, 479, 480, 481, 482, 483, 484, 485, 486, 487, 488, 489, 490, 491, 492, 493, 494, 495, 496, 497, 498, 499, 500, 501, 502, 503, 504, 505, 506, 507, 508, 509, 510, 511, 512, 513, 514, 515, 516, 517, 518, 519, 520, 521, 522, 523, 524, 525, 526, 527, 528, 529, 530, 531, 532, 533, 534, 535, 536, 537, 538, 539, 540, 541, 542, 543, 544, 545, 546, 547, 548, 549, 550, 551, 552, 553, 554, 555, 556, 557, 558, 559, 560, 561, 562, 563, 564, 565, 566, 567, 568, 569, 570, 571, 572, 573, 574, 575, 576, 577, 578, 579, 580, 581, 582, 583, 584, 585, 586, 587, 588, 589, 590, 591, 592, 593, 594, 595, 596, 597, 598, 599, 600, 601, 602, 603, 604, 605, 606, 607, 608, 609, 610, 611, 612, 613, 614, 615, 616, 617, 618, 619, 620, 621, 622, 623, 624, 625, 626, 627, 628, 629, 630, 631, 632, 633, 634, 635, 636, 637, 638, 639, 640, 641, 642, 643, 644, 645, 646, 647, 648, 649, 650, 651, 652, 653, 654, 655, 656, 657, 658, 659, 660, 661, 662, 663, 664, 665, 666, 667, 668, 669, 670, 671, 672, 673, 674, 675, 676, 677, 678, 679, 680, 681, 682, 683, 684, 685, 686, 687, 688, 689, 690, 691, 692, 693, 694, 695, 696, 697, 698, 699, 700, 701, 702, 703, 704, 705, 706, 707, 708, 709, 710, 711, 712, 713, 714, 715, 716, 717, 718, 719, 720, 721, 722, 723, 724, 725, 726, 727, 728, 729, 730, 731, 732, 733, 734, 735, 736, 737, 738, 739, 740, 741, 742, 743, 744, 745, 746, 747, 748, 749, 750, 751, 752, 753, 754, 755, 756, 757, 758, 759, 760, 761, 762, 763, 764, 765, 766, 767, 768, 769, 770, 771, 772, 773, 774, 775, 776, 777, 778, 779, 780, 781, 782, 783, 784, 785, 786, 787, 788, 789, 790, 791, 792, 793, 794, 795, 796, 797, 798, 799, 800, 801, 802, 803, 804, 805, 806, 807, 808, 809, 810, 811, 812, 813, 814, 815, 816, 817, 818, 819, 820, 821, 822, 823, 824, 825, 826, 827, 828, 829, 830, 831, 832, 833, 834, 835, 836, 837, 838, 839, 840, 841, 842, 843, 844, 845, 846, 847, 848, 849, 850, 851, 852, 853, 854, 855, 856, 857, 858, 859, 860, 861, 862, 863, 864, 865, 866, 867, 868, 869, 870, 871, 872, 873, 874, 875, 876, 877, 878, 879, 880, 881, 882, 883, 884, 885, 886, 887, 888, 889, 890, 891, 892, 893, 894, 895, 896, 897, 898, 899, 900, 901, 902, 903, 904, 905, 906, 907, 908, 909, 910, 911, 912, 913, 914, 915, 916, 917, 918, 919, 920, 921, 922, 923, 924, 925, 926, 927, 928, 929, 930, 931, 932, 933, 934, 935, 936, 937, 938, 939, 940, 941, 942, 943, 944, 945, 946, 947, 948, 949, 950, 951, 952, 953, 954, 955, 956, 957, 958, 959, 960, 961, 962, 963, 964, 965]\n",
      "36100\n",
      "\n",
      "1.817221\n",
      "stdout\n",
      "[0, 1, 2, 3, 4, 5, 6, 7, 8, 9, 10, 11, 12, 13, 14, 15, 16, 17, 18, 19, 20, 21, 22, 23, 24, 25, 26, 27, 28, 29, 30, 31, 32, 33, 34, 35, 36, 37, 38, 39, 40, 41, 42, 43, 44, 45, 46, 47, 48, 49, 50, 51, 52, 53, 54, 55, 56, 57, 58, 59, 60, 61, 62, 63, 64, 65, 66, 67, 68, 69, 70, 71, 72, 73, 74, 75, 76, 77, 78, 79, 80, 81, 82, 83, 84, 85, 86, 87, 88, 89, 90, 91, 92, 93, 94, 95, 96, 97, 98, 99, 100, 101, 102, 103, 104, 105, 106, 107, 108, 109, 110, 111, 112, 113, 114, 115, 116, 117, 118, 119, 120, 121, 122, 123, 124, 125, 126, 127, 128, 129, 130, 131, 132, 133, 134, 135, 136, 137, 138, 139, 140, 141, 142, 143, 144, 145, 146, 147, 148, 149, 150, 151, 152, 153, 154, 155, 156, 157, 158, 159, 160, 161, 162, 163, 164, 165, 166, 167, 168, 169, 170, 171, 172, 173, 174, 175, 176, 177, 178, 179, 180, 181, 182, 183, 184, 185, 186, 187, 188, 189, 190, 191, 192, 193, 194, 195, 196, 197, 198, 199, 200, 201, 202, 203, 204, 205, 206, 207, 208, 209, 210, 211, 212, 213, 214, 215, 216, 217, 218, 219, 220, 221, 222, 223, 224, 225, 226, 227, 228, 229, 230, 231, 232, 233, 234, 235, 236, 237, 238, 239, 240, 241, 242, 243, 244, 245, 246, 247, 248, 249, 250, 251, 252, 253, 254, 255, 256, 257, 258, 259, 260, 261, 262, 263, 264, 265, 266, 267, 268, 269, 270, 271, 272, 273, 274, 275, 276, 277, 278, 279, 280, 281, 282, 283, 284, 285, 286, 287, 288, 289, 290, 291, 292, 293, 294, 295, 296, 297, 298, 299, 300, 301, 302, 303, 304, 305, 306, 307, 308, 309, 310, 311, 312, 313, 314, 315, 316, 317, 318, 319, 320, 321, 322, 323, 324, 325, 326, 327, 328, 329, 330, 331, 332, 333, 334, 335, 336, 337, 338, 339, 340, 341, 342, 343, 344, 345, 346, 347, 348, 349, 350, 351, 352, 353, 354, 355, 356, 357, 358, 359, 360, 361, 362, 363, 364, 365, 366, 367, 368, 369, 370, 371, 372, 373, 374, 375, 376, 377, 378, 379, 380, 381, 382, 383, 384, 385, 386, 387, 388, 389, 390, 391, 392, 393, 394, 395, 396, 397, 398, 399, 400, 401, 402, 403, 404, 405, 406, 407, 408, 409, 410, 411, 412, 413, 414, 415, 416, 417, 418, 419, 420, 421, 422, 423, 424, 425, 426, 427, 428, 429, 430, 431, 432, 433, 434, 435, 436, 437, 438, 439, 440, 441, 442, 443, 444, 445, 446, 447, 448, 449, 450, 451, 452, 453, 454, 455, 456, 457, 458, 459, 460, 461, 462, 463, 464, 465, 466, 467, 468, 469, 470, 471, 472, 473, 474, 475, 476, 477, 478, 479, 480, 481, 482, 483, 484, 485, 486, 487, 488, 489, 490, 491, 492, 493, 494, 495, 496, 497, 498, 499, 500, 501, 502, 503, 504, 505, 506, 507, 508, 509, 510, 511, 512, 513, 514, 515, 516, 517, 518, 519, 520, 521, 522, 523, 524, 525, 526, 527, 528, 529, 530, 531, 532, 533, 534, 535, 536, 537, 538, 539, 540, 541, 542, 543, 544, 545]\n",
      "11236\n",
      "\n",
      "1.9719220000000002\n",
      "Running logger on 1029\n",
      "stdout\n",
      "[0, 1, 2, 3, 4, 5, 6, 7, 8, 9]\n",
      "\n",
      "1.98564\n",
      "stdout\n",
      "[0, 1, 2, 3, 4, 5, 6, 7, 8, 9]\n",
      "\n",
      "1.989192\n",
      "stdout\n",
      "[0, 1, 2, 3, 4, 5, 6, 7, 8, 9]\n",
      "\n",
      "1.9944550000000003\n",
      "stdout\n",
      "[0, 1, 2, 3, 4, 5, 6, 7, 8, 9]\n",
      "\n",
      "1.9992130000000001\n",
      "stdout\n",
      "[0, 1, 2, 3, 4, 5, 6, 7, 8, 9]\n",
      "\n",
      "2.002951\n",
      "stdout\n",
      "[0, 1, 2, 3, 4, 5, 6, 7, 8, 9]\n",
      "\n",
      "2.007918\n",
      "stdout\n",
      "[0, 1, 2, 3, 4, 5, 6, 7, 8, 9]\n",
      "\n",
      "2.012778\n",
      "stdout\n",
      "[0, 1, 2, 3, 4, 5, 6, 7, 8, 9]\n",
      "\n",
      "2.016436\n",
      "stdout\n",
      "[0, 1, 2, 3, 4, 5, 6, 7, 8, 9]\n",
      "\n",
      "2.0190230000000002\n",
      "stdout\n",
      "[0, 1, 2, 3, 4, 5, 6, 7, 8, 9]\n",
      "\n",
      "2.021555\n",
      "Running logger on 2921\n",
      "stdout\n",
      "[0, 1, 2, 3, 4, 5, 6, 7, 8, 9]\n",
      "\n",
      "2.026415\n",
      "stdout\n",
      "[0, 1, 2, 3, 4, 5, 6, 7, 8, 9]\n",
      "\n",
      "2.0307530000000003\n",
      "stdout\n",
      "[0, 1, 2, 3, 4, 5, 6, 7, 8, 9]\n",
      "\n",
      "2.034603\n",
      "stdout\n",
      "[0, 1, 2, 3, 4, 5, 6, 7, 8, 9]\n",
      "\n",
      "2.038094\n",
      "stdout\n",
      "[0, 1, 2, 3, 4, 5, 6, 7, 8, 9]\n",
      "\n",
      "2.0407040000000003\n",
      "stdout\n",
      "[0, 1, 2, 3, 4, 5, 6, 7, 8, 9]\n",
      "\n",
      "2.044505\n",
      "stdout\n",
      "[0, 1, 2, 3, 4, 5, 6, 7, 8, 9]\n",
      "\n",
      "2.048242\n",
      "stdout\n",
      "[0, 1, 2, 3, 4, 5, 6, 7, 8, 9]\n",
      "\n",
      "2.051189\n",
      "stdout\n",
      "[0, 1, 2, 3, 4, 5, 6, 7, 8, 9]\n",
      "\n",
      "2.053801\n",
      "stdout\n",
      "[0, 1, 2, 3, 4, 5, 6, 7, 8, 9]\n",
      "\n",
      "2.057964\n",
      "Running logger on 2666\n",
      "stdout\n",
      "[0, 1, 2, 3, 4, 5, 6, 7, 8, 9, 10, 11, 12, 13]\n",
      "15129\n",
      "\n",
      "2.062859\n",
      "stdout\n",
      "[0, 1, 2, 3, 4, 5, 6, 7, 8, 9, 10, 11, 12, 13]\n",
      "15129\n",
      "\n",
      "2.0679540000000003\n",
      "stdout\n",
      "[0, 1, 2, 3, 4, 5, 6, 7, 8, 9, 10, 11, 12, 13]\n",
      "3600\n",
      "\n",
      "2.072283\n",
      "stdout\n",
      "[0, 1, 2, 3, 4, 5, 6, 7, 8, 9, 10, 11, 12, 13]\n",
      "196\n",
      "\n",
      "2.077794\n",
      "stdout\n",
      "[0, 1, 2, 3, 4, 5, 6, 7, 8, 9, 10, 11, 12, 13]\n",
      "49\n",
      "\n",
      "2.082185\n",
      "stdout\n",
      "[0, 1, 2, 3, 4, 5, 6, 7, 8, 9, 10, 11, 12, 13]\n",
      "16384\n",
      "\n",
      "2.0859620000000003\n",
      "stdout\n",
      "[0, 1, 2, 3, 4, 5, 6, 7, 8, 9, 10, 11, 12, 13]\n",
      "3600\n",
      "\n",
      "2.090243\n",
      "stdout\n",
      "[0, 1, 2, 3, 4, 5, 6, 7, 8, 9, 10, 11, 12, 13]\n",
      "1936\n",
      "\n",
      "2.096346\n",
      "stdout\n",
      "[0, 1, 2, 3, 4, 5, 6, 7, 8, 9, 10, 11, 12, 13]\n",
      "36100\n",
      "\n",
      "2.1013990000000002\n",
      "stdout\n",
      "[0, 1, 2, 3, 4, 5, 6, 7, 8, 9, 10, 11, 12, 13]\n",
      "11236\n",
      "\n",
      "2.10868\n",
      "Running logger on 1\n",
      "stdout\n",
      "[0, 1, 2, 3, 4, 5, 6, 7, 8, 9, 10, 11, 12, 13, 14, 15, 16, 17, 18, 19, 20, 21, 22, 23, 24, 25, 26, 27, 28, 29, 30, 31, 32, 33, 34, 35, 36, 37, 38, 39, 40, 41, 42, 43, 44, 45, 46, 47, 48, 49, 50, 51, 52, 53, 54, 55, 56, 57, 58, 59, 60, 61, 62, 63, 64, 65, 66, 67, 68, 69, 70, 71, 72, 73, 74, 75, 76, 77, 78, 79, 80, 81, 82, 83, 84, 85, 86, 87, 88, 89, 90, 91, 92, 93, 94, 95, 96, 97, 98, 99, 100, 101, 102, 103, 104, 105, 106, 107, 108, 109, 110, 111, 112, 113, 114, 115, 116, 117, 118, 119, 120, 121, 122, 123, 124, 125, 126, 127, 128, 129, 130, 131, 132, 133, 134, 135, 136, 137, 138, 139, 140, 141, 142, 143, 144, 145, 146, 147, 148, 149, 150, 151, 152, 153, 154, 155, 156, 157, 158, 159, 160, 161, 162, 163, 164, 165, 166, 167, 168, 169, 170, 171, 172, 173, 174, 175, 176, 177, 178, 179, 180, 181, 182, 183, 184, 185, 186, 187, 188, 189, 190, 191, 192, 193, 194, 195, 196, 197, 198, 199, 200, 201, 202, 203, 204, 205, 206, 207, 208, 209, 210, 211, 212, 213, 214, 215, 216, 217, 218, 219, 220, 221, 222, 223, 224, 225, 226, 227, 228, 229, 230, 231, 232, 233, 234, 235, 236, 237, 238, 239, 240, 241, 242, 243, 244, 245, 246, 247, 248, 249, 250, 251, 252, 253, 254, 255, 256, 257, 258, 259, 260, 261]\n",
      "15129\n",
      "\n",
      "2.20467\n",
      "stdout\n",
      "[0, 1, 2, 3, 4, 5, 6, 7, 8, 9, 10, 11, 12, 13, 14, 15, 16, 17, 18, 19, 20, 21, 22, 23, 24, 25, 26, 27, 28, 29, 30, 31, 32, 33, 34, 35, 36, 37, 38, 39, 40, 41, 42, 43, 44, 45, 46, 47, 48, 49, 50, 51, 52, 53, 54, 55, 56, 57, 58, 59, 60, 61, 62, 63, 64, 65, 66, 67, 68, 69, 70, 71, 72, 73, 74, 75, 76, 77, 78, 79, 80, 81, 82, 83, 84, 85, 86, 87, 88, 89, 90, 91, 92, 93, 94, 95, 96, 97, 98, 99, 100, 101, 102, 103, 104, 105, 106, 107, 108, 109, 110, 111, 112, 113, 114, 115, 116, 117, 118, 119, 120, 121, 122, 123, 124, 125, 126, 127, 128, 129, 130, 131, 132, 133, 134, 135, 136, 137, 138, 139, 140, 141, 142, 143, 144, 145, 146, 147, 148, 149, 150, 151, 152, 153, 154, 155, 156, 157, 158, 159, 160, 161, 162, 163, 164, 165, 166, 167, 168, 169, 170, 171, 172, 173, 174, 175, 176, 177, 178, 179, 180, 181, 182, 183, 184, 185, 186, 187, 188, 189, 190, 191, 192, 193, 194, 195, 196, 197, 198, 199, 200, 201, 202, 203, 204, 205, 206, 207, 208, 209, 210, 211, 212, 213, 214, 215, 216, 217, 218, 219, 220, 221, 222, 223, 224, 225, 226, 227, 228, 229, 230, 231, 232, 233, 234, 235, 236, 237, 238, 239, 240, 241, 242, 243, 244, 245, 246, 247, 248, 249, 250, 251, 252, 253, 254, 255, 256, 257, 258, 259, 260, 261]\n",
      "15129\n",
      "\n",
      "2.287483\n",
      "stdout\n",
      "[0, 1, 2, 3, 4, 5, 6, 7, 8, 9, 10, 11, 12, 13, 14, 15, 16, 17, 18, 19, 20, 21, 22, 23, 24, 25, 26, 27, 28, 29, 30, 31, 32, 33, 34, 35, 36, 37, 38, 39, 40, 41, 42, 43, 44, 45, 46, 47, 48, 49, 50, 51, 52, 53, 54, 55, 56, 57, 58, 59, 60, 61, 62, 63, 64, 65, 66, 67, 68, 69, 70, 71, 72, 73, 74, 75, 76, 77, 78, 79, 80, 81, 82, 83, 84, 85, 86, 87, 88, 89, 90, 91, 92, 93, 94, 95, 96, 97, 98, 99, 100, 101, 102, 103, 104, 105, 106, 107, 108, 109, 110, 111, 112, 113, 114, 115, 116, 117, 118, 119, 120, 121, 122, 123, 124, 125, 126, 127, 128, 129, 130, 131, 132, 133, 134, 135]\n",
      "3600\n",
      "\n",
      "2.41644\n",
      "stdout\n",
      "[0, 1, 2, 3, 4, 5, 6, 7, 8, 9, 10, 11, 12, 13, 14, 15, 16, 17, 18, 19, 20, 21, 22, 23, 24, 25, 26, 27, 28, 29, 30, 31, 32, 33, 34, 35, 36, 37, 38, 39, 40, 41, 42, 43]\n",
      "196\n",
      "\n",
      "2.430591\n",
      "stdout\n",
      "[0, 1, 2, 3, 4, 5, 6, 7, 8, 9, 10, 11, 12, 13, 14, 15, 16, 17, 18, 19, 20, 21, 22, 23, 24, 25, 26, 27, 28, 29]\n",
      "49\n",
      "\n",
      "2.4396240000000002\n",
      "stdout\n",
      "[0, 1, 2, 3, 4, 5, 6, 7, 8, 9, 10, 11, 12, 13, 14, 15, 16, 17, 18, 19, 20, 21, 22, 23, 24, 25, 26, 27, 28, 29, 30, 31, 32, 33, 34, 35, 36, 37, 38, 39, 40, 41, 42, 43, 44, 45, 46, 47, 48, 49, 50, 51, 52, 53, 54, 55, 56, 57, 58, 59, 60, 61, 62, 63, 64, 65, 66, 67, 68, 69, 70, 71, 72, 73, 74, 75, 76, 77, 78, 79, 80, 81, 82, 83, 84, 85, 86, 87, 88, 89, 90, 91, 92, 93, 94, 95, 96, 97, 98, 99, 100, 101, 102, 103, 104, 105, 106, 107, 108, 109, 110, 111, 112, 113, 114, 115, 116, 117, 118, 119, 120, 121, 122, 123, 124, 125, 126, 127, 128, 129, 130, 131, 132, 133, 134, 135, 136, 137, 138, 139, 140, 141, 142, 143, 144, 145, 146, 147, 148, 149, 150, 151, 152, 153, 154, 155, 156, 157, 158, 159, 160, 161, 162, 163, 164, 165, 166, 167, 168, 169, 170, 171, 172, 173, 174, 175, 176, 177, 178, 179, 180, 181, 182, 183, 184, 185, 186, 187, 188, 189, 190, 191, 192, 193, 194, 195, 196, 197, 198, 199, 200, 201, 202, 203, 204, 205, 206, 207, 208, 209, 210, 211, 212, 213, 214, 215, 216, 217, 218, 219, 220, 221, 222, 223, 224, 225, 226, 227, 228, 229, 230, 231, 232, 233, 234, 235, 236, 237, 238, 239, 240, 241, 242, 243, 244, 245, 246, 247, 248, 249, 250, 251, 252, 253, 254, 255, 256, 257, 258, 259, 260, 261, 262, 263, 264, 265, 266, 267, 268, 269, 270, 271]\n",
      "16384\n",
      "\n",
      "2.5101880000000003\n",
      "stdout\n",
      "[0, 1, 2, 3, 4, 5, 6, 7, 8, 9, 10, 11, 12, 13, 14, 15, 16, 17, 18, 19, 20, 21, 22, 23, 24, 25, 26, 27, 28, 29, 30, 31, 32, 33, 34, 35, 36, 37, 38, 39, 40, 41, 42, 43, 44, 45, 46, 47, 48, 49, 50, 51, 52, 53, 54, 55, 56, 57, 58, 59, 60, 61, 62, 63, 64, 65, 66, 67, 68, 69, 70, 71, 72, 73, 74, 75, 76, 77, 78, 79, 80, 81, 82, 83, 84, 85, 86, 87, 88, 89, 90, 91, 92, 93, 94, 95, 96, 97, 98, 99, 100, 101, 102, 103, 104, 105, 106, 107, 108, 109, 110, 111, 112, 113, 114, 115, 116, 117, 118, 119, 120, 121, 122, 123, 124, 125, 126, 127, 128, 129, 130, 131, 132, 133, 134, 135]\n",
      "3600\n",
      "\n",
      "2.550943\n",
      "stdout\n",
      "[0, 1, 2, 3, 4, 5, 6, 7, 8, 9, 10, 11, 12, 13, 14, 15, 16, 17, 18, 19, 20, 21, 22, 23, 24, 25, 26, 27, 28, 29, 30, 31, 32, 33, 34, 35, 36, 37, 38, 39, 40, 41, 42, 43, 44, 45, 46, 47, 48, 49, 50, 51, 52, 53, 54, 55, 56, 57, 58, 59, 60, 61, 62, 63, 64, 65, 66, 67, 68, 69, 70, 71, 72, 73, 74, 75, 76, 77, 78, 79, 80, 81, 82, 83, 84, 85, 86, 87, 88, 89, 90, 91, 92, 93, 94, 95, 96, 97, 98, 99, 100, 101, 102, 103]\n",
      "1936\n",
      "\n",
      "2.5921160000000003\n",
      "stdout\n",
      "[0, 1, 2, 3, 4, 5, 6, 7, 8, 9, 10, 11, 12, 13, 14, 15, 16, 17, 18, 19, 20, 21, 22, 23, 24, 25, 26, 27, 28, 29, 30, 31, 32, 33, 34, 35, 36, 37, 38, 39, 40, 41, 42, 43, 44, 45, 46, 47, 48, 49, 50, 51, 52, 53, 54, 55, 56, 57, 58, 59, 60, 61, 62, 63, 64, 65, 66, 67, 68, 69, 70, 71, 72, 73, 74, 75, 76, 77, 78, 79, 80, 81, 82, 83, 84, 85, 86, 87, 88, 89, 90, 91, 92, 93, 94, 95, 96, 97, 98, 99, 100, 101, 102, 103, 104, 105, 106, 107, 108, 109, 110, 111, 112, 113, 114, 115, 116, 117, 118, 119, 120, 121, 122, 123, 124, 125, 126, 127, 128, 129, 130, 131, 132, 133, 134, 135, 136, 137, 138, 139, 140, 141, 142, 143, 144, 145, 146, 147, 148, 149, 150, 151, 152, 153, 154, 155, 156, 157, 158, 159, 160, 161, 162, 163, 164, 165, 166, 167, 168, 169, 170, 171, 172, 173, 174, 175, 176, 177, 178, 179, 180, 181, 182, 183, 184, 185, 186, 187, 188, 189, 190, 191, 192, 193, 194, 195, 196, 197, 198, 199, 200, 201, 202, 203, 204, 205, 206, 207, 208, 209, 210, 211, 212, 213, 214, 215, 216, 217, 218, 219, 220, 221, 222, 223, 224, 225, 226, 227, 228, 229, 230, 231, 232, 233, 234, 235, 236, 237, 238, 239, 240, 241, 242, 243, 244, 245, 246, 247, 248, 249, 250, 251, 252, 253, 254, 255, 256, 257, 258, 259, 260, 261, 262, 263, 264, 265, 266, 267, 268, 269, 270, 271, 272, 273, 274, 275, 276, 277, 278, 279, 280, 281, 282, 283, 284, 285, 286, 287, 288, 289, 290, 291, 292, 293, 294, 295, 296, 297, 298, 299, 300, 301, 302, 303, 304, 305, 306, 307, 308, 309, 310, 311, 312, 313, 314, 315, 316, 317, 318, 319, 320, 321, 322, 323, 324, 325, 326, 327, 328, 329, 330, 331, 332, 333, 334, 335, 336, 337, 338, 339, 340, 341, 342, 343, 344, 345, 346, 347, 348, 349, 350, 351, 352, 353, 354, 355, 356, 357, 358, 359, 360, 361, 362, 363, 364, 365, 366, 367, 368, 369, 370, 371, 372, 373, 374, 375, 376, 377, 378, 379, 380, 381, 382, 383, 384, 385, 386, 387, 388, 389, 390, 391, 392, 393, 394, 395]\n",
      "36100\n",
      "\n",
      "2.713984\n",
      "stdout\n",
      "[0, 1, 2, 3, 4, 5, 6, 7, 8, 9, 10, 11, 12, 13, 14, 15, 16, 17, 18, 19, 20, 21, 22, 23, 24, 25, 26, 27, 28, 29, 30, 31, 32, 33, 34, 35, 36, 37, 38, 39, 40, 41, 42, 43, 44, 45, 46, 47, 48, 49, 50, 51, 52, 53, 54, 55, 56, 57, 58, 59, 60, 61, 62, 63, 64, 65, 66, 67, 68, 69, 70, 71, 72, 73, 74, 75, 76, 77, 78, 79, 80, 81, 82, 83, 84, 85, 86, 87, 88, 89, 90, 91, 92, 93, 94, 95, 96, 97, 98, 99, 100, 101, 102, 103, 104, 105, 106, 107, 108, 109, 110, 111, 112, 113, 114, 115, 116, 117, 118, 119, 120, 121, 122, 123, 124, 125, 126, 127, 128, 129, 130, 131, 132, 133, 134, 135, 136, 137, 138, 139, 140, 141, 142, 143, 144, 145, 146, 147, 148, 149, 150, 151, 152, 153, 154, 155, 156, 157, 158, 159, 160, 161, 162, 163, 164, 165, 166, 167, 168, 169, 170, 171, 172, 173, 174, 175, 176, 177, 178, 179, 180, 181, 182, 183, 184, 185, 186, 187, 188, 189, 190, 191, 192, 193, 194, 195, 196, 197, 198, 199, 200, 201, 202, 203, 204, 205, 206, 207, 208, 209, 210, 211, 212, 213, 214, 215, 216, 217, 218, 219, 220, 221, 222, 223, 224, 225, 226, 227]\n",
      "11236\n",
      "\n",
      "2.777768\n",
      "Solutions skipped: 1\n",
      "SKIPPED WHEN TIDYING:\n",
      "['1211']\n",
      "Loading data\n",
      "problems_data/problem_778/data/pickleFiles/answer.pickle\n",
      "ANSWER: {'print(soma_impar(123))': '15129\\n', 'print(soma_impar(60))': '3600\\n', 'print(soma_impar(14))': '196\\n', 'print(soma_impar(7))': '49\\n', 'print(soma_impar(128))': '16384\\n', 'print(soma_impar(44))': '1936\\n', 'print(soma_impar(190))': '36100\\n', 'print(soma_impar(106))': '11236\\n'}\n",
      "tests_to_expected {'print(soma_impar(123))': '15129\\n', 'print(soma_impar(60))': '3600\\n', 'print(soma_impar(14))': '196\\n', 'print(soma_impar(7))': '49\\n', 'print(soma_impar(128))': '16384\\n', 'print(soma_impar(44))': '1936\\n', 'print(soma_impar(190))': '36100\\n', 'print(soma_impar(106))': '11236\\n'}\n",
      "tests_to_actual {'print(soma_impar(123))': '', 'print(soma_impar(60))': '', 'print(soma_impar(14))': '', 'print(soma_impar(7))': '', 'print(soma_impar(128))': '', 'print(soma_impar(44))': '', 'print(soma_impar(190))': '', 'print(soma_impar(106))': ''}\n",
      "tests_to_expected {'print(soma_impar(123))': '15129\\n', 'print(soma_impar(60))': '3600\\n', 'print(soma_impar(14))': '196\\n', 'print(soma_impar(7))': '49\\n', 'print(soma_impar(128))': '16384\\n', 'print(soma_impar(44))': '1936\\n', 'print(soma_impar(190))': '36100\\n', 'print(soma_impar(106))': '11236\\n'}\n",
      "tests_to_actual {'print(soma_impar(123))': '', 'print(soma_impar(60))': '', 'print(soma_impar(14))': '', 'print(soma_impar(7))': '', 'print(soma_impar(128))': '', 'print(soma_impar(44))': '', 'print(soma_impar(190))': '', 'print(soma_impar(106))': ''}\n",
      "tests_to_expected {'print(soma_impar(123))': '15129\\n', 'print(soma_impar(60))': '3600\\n', 'print(soma_impar(14))': '196\\n', 'print(soma_impar(7))': '49\\n', 'print(soma_impar(128))': '16384\\n', 'print(soma_impar(44))': '1936\\n', 'print(soma_impar(190))': '36100\\n', 'print(soma_impar(106))': '11236\\n'}\n",
      "tests_to_actual {'print(soma_impar(123))': '15129\\n', 'print(soma_impar(60))': '3600\\n', 'print(soma_impar(14))': '196\\n', 'print(soma_impar(7))': '49\\n', 'print(soma_impar(128))': '16384\\n', 'print(soma_impar(44))': '1936\\n', 'print(soma_impar(190))': '36100\\n', 'print(soma_impar(106))': '11236\\n'}\n",
      "tests_to_expected {'print(soma_impar(123))': '15129\\n', 'print(soma_impar(60))': '3600\\n', 'print(soma_impar(14))': '196\\n', 'print(soma_impar(7))': '49\\n', 'print(soma_impar(128))': '16384\\n', 'print(soma_impar(44))': '1936\\n', 'print(soma_impar(190))': '36100\\n', 'print(soma_impar(106))': '11236\\n'}\n",
      "tests_to_actual {'print(soma_impar(123))': '15129\\n', 'print(soma_impar(60))': '3600\\n', 'print(soma_impar(14))': '196\\n', 'print(soma_impar(7))': '49\\n', 'print(soma_impar(128))': '16384\\n', 'print(soma_impar(44))': '1936\\n', 'print(soma_impar(190))': '36100\\n', 'print(soma_impar(106))': '11236\\n'}\n",
      "tests_to_expected {'print(soma_impar(123))': '15129\\n', 'print(soma_impar(60))': '3600\\n', 'print(soma_impar(14))': '196\\n', 'print(soma_impar(7))': '49\\n', 'print(soma_impar(128))': '16384\\n', 'print(soma_impar(44))': '1936\\n', 'print(soma_impar(190))': '36100\\n', 'print(soma_impar(106))': '11236\\n'}\n",
      "tests_to_actual {'print(soma_impar(123))': '', 'print(soma_impar(60))': '', 'print(soma_impar(14))': '', 'print(soma_impar(7))': '', 'print(soma_impar(128))': '', 'print(soma_impar(44))': '', 'print(soma_impar(190))': '', 'print(soma_impar(106))': ''}\n",
      "Collecting variables in 2921\n",
      "Collecting variables in 1029\n",
      "Collecting variables in 1\n",
      "Collecting variables in 2666\n",
      "Collecting variables in 2214\n",
      "Computing lines for 2921\n",
      "Computing lines for 1029\n",
      "Computing lines for 1\n",
      "Computing lines for 2666\n",
      "Computing lines for 2214\n",
      "len(incorrect_solutions) = 3\n",
      "Computing stack distances\n",
      "Number of solutions processed: 5\n",
      "Number of incorrect solutions: 3\n",
      "Number of correct stacks: 2\n",
      "Number of phrases: 6\n",
      "Number of variables: 3\n",
      "skipped when extracting: []\n",
      "skipped when rewriting: []\n",
      "Overcode took 2.3947749999999997 seconds to run. (only CPU time)\n",
      "Master Script took 4.7288830280303955 seconds to run. (CPU + I/O time)\n",
      "Master Script finished running for problem 778.\n"
     ]
    }
   ],
   "source": [
    "from master_script import run_master_script\n",
    "\n",
    "problem_id = 778\n",
    "\n",
    "run_master_script(problem_id, interface=False)"
   ]
  },
  {
   "cell_type": "markdown",
   "id": "2de46141",
   "metadata": {},
   "source": [
    "### Analisar output do Overcode"
   ]
  },
  {
   "cell_type": "code",
   "execution_count": 4,
   "id": "d50a5b0e",
   "metadata": {},
   "outputs": [
    {
     "data": {
      "text/html": [
       "<div>\n",
       "<style scoped>\n",
       "    .dataframe tbody tr th:only-of-type {\n",
       "        vertical-align: middle;\n",
       "    }\n",
       "\n",
       "    .dataframe tbody tr th {\n",
       "        vertical-align: top;\n",
       "    }\n",
       "\n",
       "    .dataframe thead th {\n",
       "        text-align: right;\n",
       "    }\n",
       "</style>\n",
       "<table border=\"1\" class=\"dataframe\">\n",
       "  <thead>\n",
       "    <tr style=\"text-align: right;\">\n",
       "      <th></th>\n",
       "      <th>correct</th>\n",
       "      <th>count</th>\n",
       "      <th>error_vector</th>\n",
       "      <th>id</th>\n",
       "      <th>lineIDs</th>\n",
       "      <th>lines</th>\n",
       "      <th>members</th>\n",
       "      <th>num_passed_tests</th>\n",
       "      <th>number</th>\n",
       "      <th>phraseIDs</th>\n",
       "      <th>stack_distances</th>\n",
       "      <th>test_input_outputs</th>\n",
       "      <th>testcases</th>\n",
       "      <th>total_num_tests</th>\n",
       "      <th>variableIDs</th>\n",
       "    </tr>\n",
       "  </thead>\n",
       "  <tbody>\n",
       "    <tr>\n",
       "      <th>0</th>\n",
       "      <td>True</td>\n",
       "      <td>1</td>\n",
       "      <td>[True, True, True, True, True, True, True, Tru...</td>\n",
       "      <td>1</td>\n",
       "      <td>{'list': [1, 2, 3, 4, 5], 'type': 'set'}</td>\n",
       "      <td>[{'indent': 0, 'line_obj_ID': 1, 'phraseID': 1...</td>\n",
       "      <td>[1]</td>\n",
       "      <td>10</td>\n",
       "      <td>1</td>\n",
       "      <td>[1, 2, 3, 4, 5]</td>\n",
       "      <td>{'1': 1.0, '2': 0.392857142857142, '3': 0.0, '...</td>\n",
       "      <td>{'print(soma_impar(106))': '11236\n",
       "', 'print(so...</td>\n",
       "      <td>[print(soma_impar(123)), print(soma_impar(123)...</td>\n",
       "      <td>10</td>\n",
       "      <td>[1, 2, 3]</td>\n",
       "    </tr>\n",
       "    <tr>\n",
       "      <th>1</th>\n",
       "      <td>True</td>\n",
       "      <td>1</td>\n",
       "      <td>[True, True, True, True, True, True, True, Tru...</td>\n",
       "      <td>2</td>\n",
       "      <td>{'list': [1, 6], 'type': 'set'}</td>\n",
       "      <td>[{'indent': 0, 'line_obj_ID': 1, 'phraseID': 1...</td>\n",
       "      <td>[2666]</td>\n",
       "      <td>10</td>\n",
       "      <td>2666</td>\n",
       "      <td>[1, 6]</td>\n",
       "      <td>{'1': 0.392857142857142, '2': 1.0, '3': 0.0, '...</td>\n",
       "      <td>{'print(soma_impar(106))': '11236\n",
       "', 'print(so...</td>\n",
       "      <td>[print(soma_impar(123)), print(soma_impar(123)...</td>\n",
       "      <td>10</td>\n",
       "      <td>[2]</td>\n",
       "    </tr>\n",
       "    <tr>\n",
       "      <th>2</th>\n",
       "      <td>False</td>\n",
       "      <td>1</td>\n",
       "      <td>[False, False, False, False, False, False, Fal...</td>\n",
       "      <td>3</td>\n",
       "      <td>{'list': [], 'type': 'set'}</td>\n",
       "      <td>[]</td>\n",
       "      <td>[2921]</td>\n",
       "      <td>0</td>\n",
       "      <td>2921</td>\n",
       "      <td>[]</td>\n",
       "      <td>{'1': 0.0, '2': 0.0, '3': 0.0, '4': 0.0, '5': ...</td>\n",
       "      <td>{'print(soma_impar(106))': '', 'print(soma_imp...</td>\n",
       "      <td>[print(soma_impar(123)), print(soma_impar(123)...</td>\n",
       "      <td>10</td>\n",
       "      <td>[]</td>\n",
       "    </tr>\n",
       "    <tr>\n",
       "      <th>3</th>\n",
       "      <td>False</td>\n",
       "      <td>1</td>\n",
       "      <td>[False, False, False, False, False, False, Fal...</td>\n",
       "      <td>4</td>\n",
       "      <td>{'list': [], 'type': 'set'}</td>\n",
       "      <td>[]</td>\n",
       "      <td>[1029]</td>\n",
       "      <td>0</td>\n",
       "      <td>1029</td>\n",
       "      <td>[]</td>\n",
       "      <td>{'1': 0.0, '2': 0.0, '3': 0.0, '4': 0.0, '5': ...</td>\n",
       "      <td>{'print(soma_impar(106))': '', 'print(soma_imp...</td>\n",
       "      <td>[print(soma_impar(123)), print(soma_impar(123)...</td>\n",
       "      <td>10</td>\n",
       "      <td>[]</td>\n",
       "    </tr>\n",
       "    <tr>\n",
       "      <th>4</th>\n",
       "      <td>False</td>\n",
       "      <td>1</td>\n",
       "      <td>[False, False, False, False, False, False, Fal...</td>\n",
       "      <td>5</td>\n",
       "      <td>{'list': [], 'type': 'set'}</td>\n",
       "      <td>[]</td>\n",
       "      <td>[2214]</td>\n",
       "      <td>0</td>\n",
       "      <td>2214</td>\n",
       "      <td>[]</td>\n",
       "      <td>{'1': 0.0, '2': 0.0, '3': 0.0, '4': 0.0, '5': ...</td>\n",
       "      <td>{'print(soma_impar(106))': '', 'print(soma_imp...</td>\n",
       "      <td>[print(soma_impar(123)), print(soma_impar(123)...</td>\n",
       "      <td>10</td>\n",
       "      <td>[]</td>\n",
       "    </tr>\n",
       "  </tbody>\n",
       "</table>\n",
       "</div>"
      ],
      "text/plain": [
       "   correct  count                                       error_vector  id  \\\n",
       "0     True      1  [True, True, True, True, True, True, True, Tru...   1   \n",
       "1     True      1  [True, True, True, True, True, True, True, Tru...   2   \n",
       "2    False      1  [False, False, False, False, False, False, Fal...   3   \n",
       "3    False      1  [False, False, False, False, False, False, Fal...   4   \n",
       "4    False      1  [False, False, False, False, False, False, Fal...   5   \n",
       "\n",
       "                                    lineIDs  \\\n",
       "0  {'list': [1, 2, 3, 4, 5], 'type': 'set'}   \n",
       "1           {'list': [1, 6], 'type': 'set'}   \n",
       "2               {'list': [], 'type': 'set'}   \n",
       "3               {'list': [], 'type': 'set'}   \n",
       "4               {'list': [], 'type': 'set'}   \n",
       "\n",
       "                                               lines members  \\\n",
       "0  [{'indent': 0, 'line_obj_ID': 1, 'phraseID': 1...     [1]   \n",
       "1  [{'indent': 0, 'line_obj_ID': 1, 'phraseID': 1...  [2666]   \n",
       "2                                                 []  [2921]   \n",
       "3                                                 []  [1029]   \n",
       "4                                                 []  [2214]   \n",
       "\n",
       "   num_passed_tests  number        phraseIDs  \\\n",
       "0                10       1  [1, 2, 3, 4, 5]   \n",
       "1                10    2666           [1, 6]   \n",
       "2                 0    2921               []   \n",
       "3                 0    1029               []   \n",
       "4                 0    2214               []   \n",
       "\n",
       "                                     stack_distances  \\\n",
       "0  {'1': 1.0, '2': 0.392857142857142, '3': 0.0, '...   \n",
       "1  {'1': 0.392857142857142, '2': 1.0, '3': 0.0, '...   \n",
       "2  {'1': 0.0, '2': 0.0, '3': 0.0, '4': 0.0, '5': ...   \n",
       "3  {'1': 0.0, '2': 0.0, '3': 0.0, '4': 0.0, '5': ...   \n",
       "4  {'1': 0.0, '2': 0.0, '3': 0.0, '4': 0.0, '5': ...   \n",
       "\n",
       "                                  test_input_outputs  \\\n",
       "0  {'print(soma_impar(106))': '11236\n",
       "', 'print(so...   \n",
       "1  {'print(soma_impar(106))': '11236\n",
       "', 'print(so...   \n",
       "2  {'print(soma_impar(106))': '', 'print(soma_imp...   \n",
       "3  {'print(soma_impar(106))': '', 'print(soma_imp...   \n",
       "4  {'print(soma_impar(106))': '', 'print(soma_imp...   \n",
       "\n",
       "                                           testcases  total_num_tests  \\\n",
       "0  [print(soma_impar(123)), print(soma_impar(123)...               10   \n",
       "1  [print(soma_impar(123)), print(soma_impar(123)...               10   \n",
       "2  [print(soma_impar(123)), print(soma_impar(123)...               10   \n",
       "3  [print(soma_impar(123)), print(soma_impar(123)...               10   \n",
       "4  [print(soma_impar(123)), print(soma_impar(123)...               10   \n",
       "\n",
       "  variableIDs  \n",
       "0   [1, 2, 3]  \n",
       "1         [2]  \n",
       "2          []  \n",
       "3          []  \n",
       "4          []  "
      ]
     },
     "execution_count": 4,
     "metadata": {},
     "output_type": "execute_result"
    }
   ],
   "source": [
    "df_test = pd.read_json(f\"problems_data/problem_{problem_id}/output/solutions.json\")\n",
    "df_test.head()"
   ]
  },
  {
   "cell_type": "markdown",
   "id": "8154e334",
   "metadata": {},
   "source": [
    "#### Quantidade de Soluções e Soluções Corretas"
   ]
  },
  {
   "cell_type": "code",
   "execution_count": 5,
   "id": "1caeeb0b",
   "metadata": {},
   "outputs": [
    {
     "name": "stdout",
     "output_type": "stream",
     "text": [
      "Number of solutions: 5\n",
      "Number of correct solutions: 2\n",
      "Number of incorrect solutions: 3\n"
     ]
    }
   ],
   "source": [
    "total_solutions = sum(df_test['count'])\n",
    "print(f\"Number of solutions: {total_solutions}\")\n",
    "correct_solutions = df_test[df_test['correct'] == True]['count'].sum()\n",
    "print(f\"Number of correct solutions: {correct_solutions}\")\n",
    "print(f\"Number of incorrect solutions: {total_solutions - correct_solutions}\")"
   ]
  },
  {
   "cell_type": "markdown",
   "id": "ef143fc3",
   "metadata": {},
   "source": [
    "#### Quantidade de Clusters"
   ]
  },
  {
   "cell_type": "code",
   "execution_count": 6,
   "id": "a98d3f0d",
   "metadata": {},
   "outputs": [
    {
     "name": "stdout",
     "output_type": "stream",
     "text": [
      "Number of clusters: 5\n",
      "Number of correct clusters: 2\n",
      "Number of incorrect clusters: 3\n"
     ]
    }
   ],
   "source": [
    "total_clusters = len(df_test)\n",
    "print(f\"Number of clusters: {total_clusters}\")\n",
    "\n",
    "correct_clusters = len(df_test[df_test['correct'] == True])\n",
    "print(f\"Number of correct clusters: {correct_clusters}\")\n",
    "print(f\"Number of incorrect clusters: {total_clusters - correct_clusters}\")"
   ]
  },
  {
   "cell_type": "markdown",
   "id": "8de7e952",
   "metadata": {},
   "source": [
    "#### Redução da Quantidade de Códigos a serem analisados:"
   ]
  },
  {
   "cell_type": "code",
   "execution_count": 7,
   "id": "341fdd7f",
   "metadata": {},
   "outputs": [
    {
     "name": "stdout",
     "output_type": "stream",
     "text": [
      "Using Overcode, we only need to read 100.0% of the solutions to understand the problem.\n"
     ]
    }
   ],
   "source": [
    "sols_percentage = round(len(df_test)/total_solutions * 100, 1)\n",
    "print(f\"Using Overcode, we only need to read {sols_percentage}% of the solutions to understand the problem.\")"
   ]
  },
  {
   "cell_type": "markdown",
   "id": "59eef0a1",
   "metadata": {},
   "source": [
    "#### Histograma dos clusters de soluções"
   ]
  },
  {
   "cell_type": "code",
   "execution_count": 75,
   "id": "763481e2",
   "metadata": {},
   "outputs": [
    {
     "data": {
      "text/plain": [
       "Text(0.5, 1.0, 'Histograma Soluções X Cluster')"
      ]
     },
     "execution_count": 75,
     "metadata": {},
     "output_type": "execute_result"
    },
    {
     "data": {
      "image/png": "[encoded data removed]",
      "text/plain": [
       "<Figure size 640x480 with 1 Axes>"
      ]
     },
     "metadata": {},
     "output_type": "display_data"
    }
   ],
   "source": [
    "df_test['count'].hist()\n",
    "# Add labels and a title\n",
    "plt.xlabel('Número de Soluções do Cluster')\n",
    "plt.ylabel('Número de Clusters')\n",
    "plt.title('Histograma Soluções X Cluster')"
   ]
  },
  {
   "cell_type": "markdown",
   "id": "e5e81824",
   "metadata": {},
   "source": [
    "#### Verificação da Regra de Pareto"
   ]
  },
  {
   "cell_type": "markdown",
   "id": "8b4ae07f",
   "metadata": {},
   "source": [
    "Ordenar os clusters do maior para o menor"
   ]
  },
  {
   "cell_type": "code",
   "execution_count": 76,
   "id": "7dd32fd0",
   "metadata": {},
   "outputs": [
    {
     "data": {
      "text/plain": [
       "6     53\n",
       "24    25\n",
       "5     15\n",
       "8     14\n",
       "0     13\n",
       "Name: count, dtype: int64"
      ]
     },
     "execution_count": 76,
     "metadata": {},
     "output_type": "execute_result"
    }
   ],
   "source": [
    "sorted_df = df_test['count'].sort_values(ascending=False)\n",
    "sorted_df.head()"
   ]
  },
  {
   "cell_type": "markdown",
   "id": "b7d4dd00",
   "metadata": {},
   "source": [
    "Calcular quanto é 20% do total de clusters e qual porcentagem de soluções atingimos com esses 20%"
   ]
  },
  {
   "cell_type": "code",
   "execution_count": 79,
   "id": "5ad63bce",
   "metadata": {},
   "outputs": [
    {
     "name": "stdout",
     "output_type": "stream",
     "text": [
      "With 20% (54) of the 272 clusters,\n",
      "we get 55.1% (267) of the 485 solutions\n"
     ]
    }
   ],
   "source": [
    "twenty_percent = round(total_clusters * 0.2)\n",
    "print(f\"With 20% ({twenty_percent}) of the {total_clusters} clusters,\")\n",
    "\n",
    "represented_solutions = sorted_df[:twenty_percent].sum()\n",
    "percentage = round(represented_solutions/total_solutions * 100, 1)\n",
    "print(f\"we get {percentage}% ({represented_solutions}) of the {total_solutions} solutions\")"
   ]
  },
  {
   "cell_type": "markdown",
   "id": "28cf8cf1",
   "metadata": {},
   "source": [
    "O Inverso: Calcular quanto é 80% do total de soluções e quantos clusters precisamos para atingir esses 80%"
   ]
  },
  {
   "cell_type": "code",
   "execution_count": 54,
   "id": "a7190635",
   "metadata": {},
   "outputs": [
    {
     "name": "stdout",
     "output_type": "stream",
     "text": [
      "We need 72.7% (282) clusters to represent 80% (422) of the solutions.\n"
     ]
    }
   ],
   "source": [
    "eighty_percent = round(total_solutions * 0.8)\n",
    "\n",
    "for i in range(1, len(sorted_df)):\n",
    "    if sorted_df[:i].sum() >= eighty_percent:\n",
    "        break\n",
    "\n",
    "inverse_percentage = round(i/total_clusters * 100, 1)\n",
    "print(f\"We need {inverse_percentage}% ({i}) clusters to represent 80% ({eighty_percent}) of the solutions.\")"
   ]
  }
 ],
 "metadata": {
  "kernelspec": {
   "display_name": "Python 3 (ipykernel)",
   "language": "python",
   "name": "python3"
  },
  "language_info": {
   "codemirror_mode": {
    "name": "ipython",
    "version": 3
   },
   "file_extension": ".py",
   "mimetype": "text/x-python",
   "name": "python",
   "nbconvert_exporter": "python",
   "pygments_lexer": "ipython3",
   "version": "3.10.4"
  }
 },
 "nbformat": 4,
 "nbformat_minor": 5
}
