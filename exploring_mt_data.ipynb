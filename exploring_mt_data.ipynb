{
 "cells": [
  {
   "cell_type": "markdown",
   "id": "6ab681fb",
   "metadata": {},
   "source": [
    "# Conectando com o Banco de Dados"
   ]
  },
  {
   "cell_type": "code",
   "execution_count": 4,
   "id": "fb1ee1f0-3319-4af5-99e2-40f99c1684b9",
   "metadata": {},
   "outputs": [],
   "source": [
    "import psycopg2\n",
    "import os\n",
    "import json\n",
    "\n",
    "# Load the database parameters\n",
    "db_params_path = os.path.join(\"scripts\", \"db_params.json\")\n",
    "with open(db_params_path, \"r\") as f:\n",
    "    db_params = json.load(f)\n",
    "\n",
    "# Establish a connection\n",
    "connection = psycopg2.connect(**db_params)"
   ]
  },
  {
   "cell_type": "markdown",
   "id": "d4298bc6",
   "metadata": {},
   "source": [
    "## Teste"
   ]
  },
  {
   "cell_type": "code",
   "execution_count": 5,
   "id": "40f8aadc",
   "metadata": {},
   "outputs": [
    {
     "name": "stderr",
     "output_type": "stream",
     "text": [
      "/var/folders/r4/lsk7h_t97_z0qpppcnz96n700000gn/T/ipykernel_15377/808633263.py:12: UserWarning: pandas only supports SQLAlchemy connectable (engine/connection) or database string URI or sqlite3 DBAPI2 connection. Other DBAPI2 objects are not tested. Please consider using SQLAlchemy.\n",
      "  df = pd.read_sql_query(sql_query, connection)\n"
     ]
    },
    {
     "data": {
      "text/html": [
       "<div>\n",
       "<style scoped>\n",
       "    .dataframe tbody tr th:only-of-type {\n",
       "        vertical-align: middle;\n",
       "    }\n",
       "\n",
       "    .dataframe tbody tr th {\n",
       "        vertical-align: top;\n",
       "    }\n",
       "\n",
       "    .dataframe thead th {\n",
       "        text-align: right;\n",
       "    }\n",
       "</style>\n",
       "<table border=\"1\" class=\"dataframe\">\n",
       "  <thead>\n",
       "    <tr style=\"text-align: right;\">\n",
       "      <th></th>\n",
       "      <th>problem_id</th>\n",
       "      <th>count</th>\n",
       "    </tr>\n",
       "  </thead>\n",
       "  <tbody>\n",
       "    <tr>\n",
       "      <th>count</th>\n",
       "      <td>138.000000</td>\n",
       "      <td>138.000000</td>\n",
       "    </tr>\n",
       "    <tr>\n",
       "      <th>mean</th>\n",
       "      <td>678.195652</td>\n",
       "      <td>369.673913</td>\n",
       "    </tr>\n",
       "    <tr>\n",
       "      <th>std</th>\n",
       "      <td>268.866718</td>\n",
       "      <td>539.780872</td>\n",
       "    </tr>\n",
       "    <tr>\n",
       "      <th>min</th>\n",
       "      <td>3.000000</td>\n",
       "      <td>1.000000</td>\n",
       "    </tr>\n",
       "    <tr>\n",
       "      <th>25%</th>\n",
       "      <td>743.250000</td>\n",
       "      <td>4.000000</td>\n",
       "    </tr>\n",
       "    <tr>\n",
       "      <th>50%</th>\n",
       "      <td>783.500000</td>\n",
       "      <td>20.000000</td>\n",
       "    </tr>\n",
       "    <tr>\n",
       "      <th>75%</th>\n",
       "      <td>818.750000</td>\n",
       "      <td>893.750000</td>\n",
       "    </tr>\n",
       "    <tr>\n",
       "      <th>max</th>\n",
       "      <td>857.000000</td>\n",
       "      <td>1813.000000</td>\n",
       "    </tr>\n",
       "  </tbody>\n",
       "</table>\n",
       "</div>"
      ],
      "text/plain": [
       "       problem_id        count\n",
       "count  138.000000   138.000000\n",
       "mean   678.195652   369.673913\n",
       "std    268.866718   539.780872\n",
       "min      3.000000     1.000000\n",
       "25%    743.250000     4.000000\n",
       "50%    783.500000    20.000000\n",
       "75%    818.750000   893.750000\n",
       "max    857.000000  1813.000000"
      ]
     },
     "execution_count": 5,
     "metadata": {},
     "output_type": "execute_result"
    }
   ],
   "source": [
    "import pandas as pd\n",
    "\n",
    "n = 0\n",
    "\n",
    "# SQL query\n",
    "sql_query = f\"\"\"SELECT problem_id, COUNT(DISTINCT user_id)\n",
    "                FROM questions_userlog\n",
    "                GROUP BY problem_id\n",
    "                HAVING COUNT(DISTINCT user_id) >= {n};\"\"\"\n",
    "\n",
    "# Load data into a Pandas dataframe\n",
    "df = pd.read_sql_query(sql_query, connection)\n",
    "\n",
    "# Take a look at the data\n",
    "df.describe()"
   ]
  },
  {
   "cell_type": "markdown",
   "id": "e633a076",
   "metadata": {},
   "source": [
    "# Análise Exploratória"
   ]
  },
  {
   "cell_type": "markdown",
   "id": "1f79f8a9",
   "metadata": {},
   "source": [
    "## Quantas questões existem no banco de dados?"
   ]
  },
  {
   "cell_type": "code",
   "execution_count": 6,
   "id": "b6c48018",
   "metadata": {},
   "outputs": [
    {
     "name": "stderr",
     "output_type": "stream",
     "text": [
      "/var/folders/r4/lsk7h_t97_z0qpppcnz96n700000gn/T/ipykernel_15377/593237104.py:7: UserWarning: pandas only supports SQLAlchemy connectable (engine/connection) or database string URI or sqlite3 DBAPI2 connection. Other DBAPI2 objects are not tested. Please consider using SQLAlchemy.\n",
      "  questions_df = pd.read_sql_query(sql_query, connection)\n"
     ]
    },
    {
     "data": {
      "text/plain": [
       "id                     842\n",
       "title                  842\n",
       "content                842\n",
       "difficulty             842\n",
       "link                   842\n",
       "retrieved_date         842\n",
       "crawler                842\n",
       "hint                   842\n",
       "test_case_generator    124\n",
       "question_type          842\n",
       "options                842\n",
       "dtype: int64"
      ]
     },
     "execution_count": 6,
     "metadata": {},
     "output_type": "execute_result"
    }
   ],
   "source": [
    "# SQL query\n",
    "sql_query = f\"\"\"SELECT *\n",
    "                FROM questions_problem\n",
    "                \"\"\"\n",
    "\n",
    "# Load data into a Pandas dataframe\n",
    "questions_df = pd.read_sql_query(sql_query, connection)\n",
    "\n",
    "# Count lines\n",
    "questions_df.count()"
   ]
  },
  {
   "cell_type": "markdown",
   "id": "b0407adf",
   "metadata": {},
   "source": [
    "### Quantas questões com resposta existem no banco de dados?"
   ]
  },
  {
   "cell_type": "code",
   "execution_count": 7,
   "id": "cff55c00",
   "metadata": {},
   "outputs": [
    {
     "name": "stderr",
     "output_type": "stream",
     "text": [
      "/var/folders/r4/lsk7h_t97_z0qpppcnz96n700000gn/T/ipykernel_15377/650427698.py:10: UserWarning: pandas only supports SQLAlchemy connectable (engine/connection) or database string URI or sqlite3 DBAPI2 connection. Other DBAPI2 objects are not tested. Please consider using SQLAlchemy.\n",
      "  df = pd.read_sql_query(sql_query, connection)\n"
     ]
    },
    {
     "name": "stdout",
     "output_type": "stream",
     "text": [
      "Number of problems with at least 1 answer(s) from distinct users: 138\n"
     ]
    }
   ],
   "source": [
    "n = 1\n",
    "\n",
    "# SQL query\n",
    "sql_query = f\"\"\"SELECT problem_id, COUNT(DISTINCT user_id)\n",
    "                FROM questions_userlog\n",
    "                GROUP BY problem_id\n",
    "                HAVING COUNT(DISTINCT user_id) >= {n};\"\"\"\n",
    "\n",
    "# Load data into a Pandas dataframe\n",
    "df = pd.read_sql_query(sql_query, connection)\n",
    "\n",
    "print(f\"Number of problems with at least {n} answer(s) from distinct users: {len(df)}\")"
   ]
  },
  {
   "cell_type": "markdown",
   "id": "397e792f",
   "metadata": {},
   "source": [
    "## Quantas soluções existem no banco de dados?"
   ]
  },
  {
   "cell_type": "markdown",
   "id": "b6194cca",
   "metadata": {},
   "source": [
    "Transformando tabela de soluções em Dataframe:"
   ]
  },
  {
   "cell_type": "code",
   "execution_count": 8,
   "id": "ba92449f",
   "metadata": {},
   "outputs": [
    {
     "name": "stderr",
     "output_type": "stream",
     "text": [
      "/var/folders/r4/lsk7h_t97_z0qpppcnz96n700000gn/T/ipykernel_15377/3692574933.py:7: UserWarning: pandas only supports SQLAlchemy connectable (engine/connection) or database string URI or sqlite3 DBAPI2 connection. Other DBAPI2 objects are not tested. Please consider using SQLAlchemy.\n",
      "  solutions_df = pd.read_sql_query(sql_query, connection)\n"
     ]
    },
    {
     "data": {
      "text/html": [
       "<div>\n",
       "<style scoped>\n",
       "    .dataframe tbody tr th:only-of-type {\n",
       "        vertical-align: middle;\n",
       "    }\n",
       "\n",
       "    .dataframe tbody tr th {\n",
       "        vertical-align: top;\n",
       "    }\n",
       "\n",
       "    .dataframe thead th {\n",
       "        text-align: right;\n",
       "    }\n",
       "</style>\n",
       "<table border=\"1\" class=\"dataframe\">\n",
       "  <thead>\n",
       "    <tr style=\"text-align: right;\">\n",
       "      <th></th>\n",
       "      <th>id</th>\n",
       "      <th>seconds_in_code</th>\n",
       "      <th>seconds_in_page</th>\n",
       "      <th>seconds_to_begin</th>\n",
       "      <th>solution_lines</th>\n",
       "      <th>problem_id</th>\n",
       "      <th>user_id</th>\n",
       "      <th>test_case_hits</th>\n",
       "      <th>user_class_id</th>\n",
       "    </tr>\n",
       "  </thead>\n",
       "  <tbody>\n",
       "    <tr>\n",
       "      <th>count</th>\n",
       "      <td>434337.000000</td>\n",
       "      <td>4.343370e+05</td>\n",
       "      <td>434337.000000</td>\n",
       "      <td>434337.000000</td>\n",
       "      <td>434337.000000</td>\n",
       "      <td>434337.000000</td>\n",
       "      <td>434337.000000</td>\n",
       "      <td>426418.000000</td>\n",
       "      <td>434337.000000</td>\n",
       "    </tr>\n",
       "    <tr>\n",
       "      <th>mean</th>\n",
       "      <td>351012.579948</td>\n",
       "      <td>8.547523e+02</td>\n",
       "      <td>2805.806567</td>\n",
       "      <td>335.728480</td>\n",
       "      <td>11.139997</td>\n",
       "      <td>803.728800</td>\n",
       "      <td>1843.444443</td>\n",
       "      <td>26.622722</td>\n",
       "      <td>69.952010</td>\n",
       "    </tr>\n",
       "    <tr>\n",
       "      <th>std</th>\n",
       "      <td>125402.352557</td>\n",
       "      <td>8.804527e+03</td>\n",
       "      <td>12750.494749</td>\n",
       "      <td>3536.405048</td>\n",
       "      <td>9.153649</td>\n",
       "      <td>52.135296</td>\n",
       "      <td>632.069444</td>\n",
       "      <td>39.219658</td>\n",
       "      <td>27.920784</td>\n",
       "    </tr>\n",
       "    <tr>\n",
       "      <th>min</th>\n",
       "      <td>84420.000000</td>\n",
       "      <td>0.000000e+00</td>\n",
       "      <td>0.000000</td>\n",
       "      <td>0.000000</td>\n",
       "      <td>1.000000</td>\n",
       "      <td>3.000000</td>\n",
       "      <td>1.000000</td>\n",
       "      <td>0.000000</td>\n",
       "      <td>2.000000</td>\n",
       "    </tr>\n",
       "    <tr>\n",
       "      <th>25%</th>\n",
       "      <td>242438.000000</td>\n",
       "      <td>9.200000e+01</td>\n",
       "      <td>314.000000</td>\n",
       "      <td>3.000000</td>\n",
       "      <td>7.000000</td>\n",
       "      <td>804.000000</td>\n",
       "      <td>1323.000000</td>\n",
       "      <td>0.000000</td>\n",
       "      <td>54.000000</td>\n",
       "    </tr>\n",
       "    <tr>\n",
       "      <th>50%</th>\n",
       "      <td>351023.000000</td>\n",
       "      <td>1.940000e+02</td>\n",
       "      <td>796.000000</td>\n",
       "      <td>15.000000</td>\n",
       "      <td>10.000000</td>\n",
       "      <td>813.000000</td>\n",
       "      <td>1762.000000</td>\n",
       "      <td>0.000000</td>\n",
       "      <td>73.000000</td>\n",
       "    </tr>\n",
       "    <tr>\n",
       "      <th>75%</th>\n",
       "      <td>459607.000000</td>\n",
       "      <td>3.900000e+02</td>\n",
       "      <td>1885.000000</td>\n",
       "      <td>79.000000</td>\n",
       "      <td>14.000000</td>\n",
       "      <td>827.000000</td>\n",
       "      <td>2348.000000</td>\n",
       "      <td>53.000000</td>\n",
       "      <td>88.000000</td>\n",
       "    </tr>\n",
       "    <tr>\n",
       "      <th>max</th>\n",
       "      <td>568191.000000</td>\n",
       "      <td>1.042544e+06</td>\n",
       "      <td>504133.000000</td>\n",
       "      <td>499615.000000</td>\n",
       "      <td>3859.000000</td>\n",
       "      <td>857.000000</td>\n",
       "      <td>3421.000000</td>\n",
       "      <td>100.000000</td>\n",
       "      <td>143.000000</td>\n",
       "    </tr>\n",
       "  </tbody>\n",
       "</table>\n",
       "</div>"
      ],
      "text/plain": [
       "                  id  seconds_in_code  seconds_in_page  seconds_to_begin  \\\n",
       "count  434337.000000     4.343370e+05    434337.000000     434337.000000   \n",
       "mean   351012.579948     8.547523e+02      2805.806567        335.728480   \n",
       "std    125402.352557     8.804527e+03     12750.494749       3536.405048   \n",
       "min     84420.000000     0.000000e+00         0.000000          0.000000   \n",
       "25%    242438.000000     9.200000e+01       314.000000          3.000000   \n",
       "50%    351023.000000     1.940000e+02       796.000000         15.000000   \n",
       "75%    459607.000000     3.900000e+02      1885.000000         79.000000   \n",
       "max    568191.000000     1.042544e+06    504133.000000     499615.000000   \n",
       "\n",
       "       solution_lines     problem_id        user_id  test_case_hits  \\\n",
       "count   434337.000000  434337.000000  434337.000000   426418.000000   \n",
       "mean        11.139997     803.728800    1843.444443       26.622722   \n",
       "std          9.153649      52.135296     632.069444       39.219658   \n",
       "min          1.000000       3.000000       1.000000        0.000000   \n",
       "25%          7.000000     804.000000    1323.000000        0.000000   \n",
       "50%         10.000000     813.000000    1762.000000        0.000000   \n",
       "75%         14.000000     827.000000    2348.000000       53.000000   \n",
       "max       3859.000000     857.000000    3421.000000      100.000000   \n",
       "\n",
       "       user_class_id  \n",
       "count  434337.000000  \n",
       "mean       69.952010  \n",
       "std        27.920784  \n",
       "min         2.000000  \n",
       "25%        54.000000  \n",
       "50%        73.000000  \n",
       "75%        88.000000  \n",
       "max       143.000000  "
      ]
     },
     "execution_count": 8,
     "metadata": {},
     "output_type": "execute_result"
    }
   ],
   "source": [
    "# SQL query\n",
    "sql_query = f\"\"\"SELECT *\n",
    "                FROM questions_userlog\n",
    "                \"\"\"\n",
    "\n",
    "# Load data into a Pandas dataframe\n",
    "solutions_df = pd.read_sql_query(sql_query, connection)\n",
    "\n",
    "solutions_df.describe()\n"
   ]
  },
  {
   "cell_type": "code",
   "execution_count": 9,
   "id": "8ca55abe",
   "metadata": {},
   "outputs": [
    {
     "name": "stdout",
     "output_type": "stream",
     "text": [
      "Number of solutions: 434337\n"
     ]
    }
   ],
   "source": [
    "solutions_count = len(solutions_df)\n",
    "print(f\"Number of solutions: {solutions_count}\")"
   ]
  },
  {
   "cell_type": "markdown",
   "id": "5df99da8",
   "metadata": {},
   "source": [
    "## Quantas são as soluções sem contar as tentativas repetidas em cada questão?"
   ]
  },
  {
   "cell_type": "markdown",
   "id": "762e3c66",
   "metadata": {},
   "source": [
    "Contamos apenas a última solução submetida por um usuário para cada questão.\n",
    "\n",
    "Em outras palavras, queremos o número de soluções com pares únicos de [problem_id, user_id]."
   ]
  },
  {
   "cell_type": "code",
   "execution_count": 10,
   "id": "0ab3b74e",
   "metadata": {},
   "outputs": [
    {
     "name": "stdout",
     "output_type": "stream",
     "text": [
      "Number of unique solutions: 51015\n",
      "Counting only unique solutions, we need look just at 11.7% of the solutions.\n"
     ]
    }
   ],
   "source": [
    "# Count number of solutions with unique problem_id/user_id pairs \n",
    "\n",
    "unique_solutions_count = len(solutions_df.groupby([\"problem_id\", \"user_id\"]))\n",
    "print(f\"Number of unique solutions: {unique_solutions_count}\")\n",
    "percentage = round(unique_solutions_count/solutions_count * 100, 1)\n",
    "print(f\"Counting only unique solutions, we need look just at {percentage}% of the solutions.\")"
   ]
  },
  {
   "cell_type": "markdown",
   "id": "318e4550",
   "metadata": {},
   "source": [
    "## Quais são as estatísticas das soluções únicas?"
   ]
  },
  {
   "cell_type": "markdown",
   "id": "1c502ebd",
   "metadata": {},
   "source": [
    "Gerando um dataframe de soluções únicas"
   ]
  },
  {
   "cell_type": "code",
   "execution_count": 11,
   "id": "b82ef7ce",
   "metadata": {},
   "outputs": [],
   "source": [
    "# Sort the solutions dataframe by 'user_id' and 'problem_id' and 'timestamp' in descending order\n",
    "sorted_solutions_df = solutions_df.sort_values(by=['user_id', 'problem_id', 'timestamp'], ascending=[True, True, True])\n",
    "\n",
    "# Use groupby to group by 'user_id' and 'problem_id' and select the last solution in each group\n",
    "last_solution_df = sorted_solutions_df.groupby(['user_id', 'problem_id']).last().reset_index()"
   ]
  },
  {
   "cell_type": "code",
   "execution_count": 12,
   "id": "523c5d9c",
   "metadata": {},
   "outputs": [
    {
     "data": {
      "text/html": [
       "<div>\n",
       "<style scoped>\n",
       "    .dataframe tbody tr th:only-of-type {\n",
       "        vertical-align: middle;\n",
       "    }\n",
       "\n",
       "    .dataframe tbody tr th {\n",
       "        vertical-align: top;\n",
       "    }\n",
       "\n",
       "    .dataframe thead th {\n",
       "        text-align: right;\n",
       "    }\n",
       "</style>\n",
       "<table border=\"1\" class=\"dataframe\">\n",
       "  <thead>\n",
       "    <tr style=\"text-align: right;\">\n",
       "      <th></th>\n",
       "      <th>user_id</th>\n",
       "      <th>problem_id</th>\n",
       "      <th>id</th>\n",
       "      <th>seconds_in_code</th>\n",
       "      <th>seconds_in_page</th>\n",
       "      <th>seconds_to_begin</th>\n",
       "      <th>solution_lines</th>\n",
       "      <th>test_case_hits</th>\n",
       "      <th>user_class_id</th>\n",
       "    </tr>\n",
       "  </thead>\n",
       "  <tbody>\n",
       "    <tr>\n",
       "      <th>count</th>\n",
       "      <td>51015.000000</td>\n",
       "      <td>51015.000000</td>\n",
       "      <td>51015.000000</td>\n",
       "      <td>51015.000000</td>\n",
       "      <td>51015.000000</td>\n",
       "      <td>51015.000000</td>\n",
       "      <td>51015.000000</td>\n",
       "      <td>50029.000000</td>\n",
       "      <td>51015.000000</td>\n",
       "    </tr>\n",
       "    <tr>\n",
       "      <th>mean</th>\n",
       "      <td>1829.338528</td>\n",
       "      <td>799.172734</td>\n",
       "      <td>351632.839655</td>\n",
       "      <td>506.568735</td>\n",
       "      <td>1785.642635</td>\n",
       "      <td>334.944036</td>\n",
       "      <td>11.333392</td>\n",
       "      <td>93.099083</td>\n",
       "      <td>69.161756</td>\n",
       "    </tr>\n",
       "    <tr>\n",
       "      <th>std</th>\n",
       "      <td>656.720386</td>\n",
       "      <td>63.597801</td>\n",
       "      <td>128877.753572</td>\n",
       "      <td>7900.330112</td>\n",
       "      <td>10297.295393</td>\n",
       "      <td>4604.079000</td>\n",
       "      <td>6.793658</td>\n",
       "      <td>24.535300</td>\n",
       "      <td>29.301950</td>\n",
       "    </tr>\n",
       "    <tr>\n",
       "      <th>min</th>\n",
       "      <td>1.000000</td>\n",
       "      <td>3.000000</td>\n",
       "      <td>84427.000000</td>\n",
       "      <td>0.000000</td>\n",
       "      <td>0.000000</td>\n",
       "      <td>0.000000</td>\n",
       "      <td>1.000000</td>\n",
       "      <td>0.000000</td>\n",
       "      <td>2.000000</td>\n",
       "    </tr>\n",
       "    <tr>\n",
       "      <th>25%</th>\n",
       "      <td>1266.000000</td>\n",
       "      <td>800.000000</td>\n",
       "      <td>235979.500000</td>\n",
       "      <td>42.000000</td>\n",
       "      <td>137.000000</td>\n",
       "      <td>3.000000</td>\n",
       "      <td>7.000000</td>\n",
       "      <td>100.000000</td>\n",
       "      <td>38.000000</td>\n",
       "    </tr>\n",
       "    <tr>\n",
       "      <th>50%</th>\n",
       "      <td>1715.000000</td>\n",
       "      <td>815.000000</td>\n",
       "      <td>351300.000000</td>\n",
       "      <td>126.000000</td>\n",
       "      <td>443.000000</td>\n",
       "      <td>13.000000</td>\n",
       "      <td>10.000000</td>\n",
       "      <td>100.000000</td>\n",
       "      <td>73.000000</td>\n",
       "    </tr>\n",
       "    <tr>\n",
       "      <th>75%</th>\n",
       "      <td>2355.000000</td>\n",
       "      <td>828.000000</td>\n",
       "      <td>464049.000000</td>\n",
       "      <td>251.000000</td>\n",
       "      <td>1150.000000</td>\n",
       "      <td>65.000000</td>\n",
       "      <td>14.000000</td>\n",
       "      <td>100.000000</td>\n",
       "      <td>88.000000</td>\n",
       "    </tr>\n",
       "    <tr>\n",
       "      <th>max</th>\n",
       "      <td>3421.000000</td>\n",
       "      <td>857.000000</td>\n",
       "      <td>568191.000000</td>\n",
       "      <td>940115.000000</td>\n",
       "      <td>504133.000000</td>\n",
       "      <td>499615.000000</td>\n",
       "      <td>123.000000</td>\n",
       "      <td>100.000000</td>\n",
       "      <td>143.000000</td>\n",
       "    </tr>\n",
       "  </tbody>\n",
       "</table>\n",
       "</div>"
      ],
      "text/plain": [
       "            user_id    problem_id             id  seconds_in_code  \\\n",
       "count  51015.000000  51015.000000   51015.000000     51015.000000   \n",
       "mean    1829.338528    799.172734  351632.839655       506.568735   \n",
       "std      656.720386     63.597801  128877.753572      7900.330112   \n",
       "min        1.000000      3.000000   84427.000000         0.000000   \n",
       "25%     1266.000000    800.000000  235979.500000        42.000000   \n",
       "50%     1715.000000    815.000000  351300.000000       126.000000   \n",
       "75%     2355.000000    828.000000  464049.000000       251.000000   \n",
       "max     3421.000000    857.000000  568191.000000    940115.000000   \n",
       "\n",
       "       seconds_in_page  seconds_to_begin  solution_lines  test_case_hits  \\\n",
       "count     51015.000000      51015.000000    51015.000000    50029.000000   \n",
       "mean       1785.642635        334.944036       11.333392       93.099083   \n",
       "std       10297.295393       4604.079000        6.793658       24.535300   \n",
       "min           0.000000          0.000000        1.000000        0.000000   \n",
       "25%         137.000000          3.000000        7.000000      100.000000   \n",
       "50%         443.000000         13.000000       10.000000      100.000000   \n",
       "75%        1150.000000         65.000000       14.000000      100.000000   \n",
       "max      504133.000000     499615.000000      123.000000      100.000000   \n",
       "\n",
       "       user_class_id  \n",
       "count   51015.000000  \n",
       "mean       69.161756  \n",
       "std        29.301950  \n",
       "min         2.000000  \n",
       "25%        38.000000  \n",
       "50%        73.000000  \n",
       "75%        88.000000  \n",
       "max       143.000000  "
      ]
     },
     "execution_count": 12,
     "metadata": {},
     "output_type": "execute_result"
    }
   ],
   "source": [
    "last_solution_df.describe()"
   ]
  },
  {
   "cell_type": "markdown",
   "id": "6a70b249",
   "metadata": {},
   "source": [
    "#"
   ]
  },
  {
   "cell_type": "markdown",
   "id": "6f941ff8",
   "metadata": {},
   "source": [
    "## Quantos são os alunos no banco de dados?"
   ]
  },
  {
   "cell_type": "code",
   "execution_count": 13,
   "id": "a99e9e2f",
   "metadata": {},
   "outputs": [
    {
     "name": "stdout",
     "output_type": "stream",
     "text": [
      "Number of users: 3162\n"
     ]
    },
    {
     "name": "stderr",
     "output_type": "stream",
     "text": [
      "/var/folders/r4/lsk7h_t97_z0qpppcnz96n700000gn/T/ipykernel_15377/3031740989.py:9: UserWarning: pandas only supports SQLAlchemy connectable (engine/connection) or database string URI or sqlite3 DBAPI2 connection. Other DBAPI2 objects are not tested. Please consider using SQLAlchemy.\n",
      "  students_df = pd.read_sql_query(sql_query, connection)\n"
     ]
    }
   ],
   "source": [
    "# TODO cortar os usuarios que são staff ou não estao ativos\n",
    "\n",
    "# SQL query\n",
    "sql_query = f\"\"\"SELECT id\n",
    "                FROM auth_user\n",
    "                \"\"\"\n",
    "\n",
    "# Load data into a Pandas dataframe\n",
    "students_df = pd.read_sql_query(sql_query, connection)\n",
    "\n",
    "# Count lines\n",
    "print(f\"Number of users: {len(students_df)}\")"
   ]
  },
  {
   "cell_type": "markdown",
   "id": "693d225f",
   "metadata": {},
   "source": [
    "## Como é o histograma do número de soluções por questão?"
   ]
  },
  {
   "cell_type": "code",
   "execution_count": 15,
   "id": "4aa97be6",
   "metadata": {},
   "outputs": [
    {
     "name": "stdout",
     "output_type": "stream",
     "text": [
      "Number of questions with solutions: 138\n"
     ]
    }
   ],
   "source": [
    "sols_per_question = last_solution_df.groupby(['problem_id'])['id'].count()\n",
    "print(f\"Number of questions with solutions: {len(sols_per_question)}\")"
   ]
  },
  {
   "cell_type": "markdown",
   "id": "e1dd864b",
   "metadata": {},
   "source": [
    "### Histograma Original"
   ]
  },
  {
   "cell_type": "code",
   "execution_count": 16,
   "id": "64f96067",
   "metadata": {},
   "outputs": [],
   "source": [
    "import matplotlib\n",
    "import matplotlib.pyplot as plt"
   ]
  },
  {
   "cell_type": "code",
   "execution_count": 49,
   "id": "561c0479",
   "metadata": {},
   "outputs": [
    {
     "data": {
      "image/png": "[encoded data removed]",
      "text/plain": [
       "<Figure size 640x480 with 1 Axes>"
      ]
     },
     "metadata": {},
     "output_type": "display_data"
    }
   ],
   "source": [
    "sols_per_question.hist(bins=range(0, 2001, 250))\n",
    "\n",
    "# Add labels and a title\n",
    "plt.xlabel('Número de Soluções')\n",
    "plt.ylabel('Número de Questões')\n",
    "plt.title('Histograma do Número de Soluções por Questão')\n",
    "\n",
    "# Show the histogram\n",
    "plt.show()"
   ]
  },
  {
   "cell_type": "markdown",
   "id": "31ed1372",
   "metadata": {},
   "source": [
    "### Avaliando questões com poucas soluções (<= 50)"
   ]
  },
  {
   "cell_type": "code",
   "execution_count": 47,
   "id": "194d29c0",
   "metadata": {},
   "outputs": [
    {
     "name": "stdout",
     "output_type": "stream",
     "text": [
      "Number of questions with less than 250 solutions: 91\n"
     ]
    },
    {
     "data": {
      "text/plain": [
       "Text(0.5, 1.0, 'Histograma Soluções por Questão (< 250 soluções)')"
      ]
     },
     "execution_count": 47,
     "metadata": {},
     "output_type": "execute_result"
    },
    {
     "data": {
      "image/png": "[encoded data removed]",
      "text/plain": [
       "<Figure size 640x480 with 1 Axes>"
      ]
     },
     "metadata": {},
     "output_type": "display_data"
    }
   ],
   "source": [
    "few_sols_series = sols_per_question[sols_per_question < 250]\n",
    "few_sols_series.hist(bins=range(0, 51, 10))\n",
    "\n",
    "print(f\"Number of questions with less than 250 solutions: {len(few_sols_series)}\")\n",
    "\n",
    "# Add labels and a title\n",
    "plt.xlabel('Número de Soluções')\n",
    "plt.ylabel('Número de Questões')\n",
    "plt.title('Histograma Soluções por Questão (< 250 soluções)')"
   ]
  },
  {
   "cell_type": "markdown",
   "id": "5e155f76",
   "metadata": {},
   "source": [
    "### Questões com apenas 1 solução (não são interessantes para o Overcode)"
   ]
  },
  {
   "cell_type": "code",
   "execution_count": 51,
   "id": "2e67ab49",
   "metadata": {},
   "outputs": [
    {
     "name": "stdout",
     "output_type": "stream",
     "text": [
      "Number of questions with only one solution: 14\n"
     ]
    }
   ],
   "source": [
    "one_sol_series = sols_per_question[sols_per_question == 1]\n",
    "print(f\"Number of questions with only one solution: {len(one_sol_series)}\")"
   ]
  },
  {
   "cell_type": "markdown",
   "id": "1e5983e0",
   "metadata": {},
   "source": [
    "### Avaliando questões com muitas soluções (> 250)"
   ]
  },
  {
   "cell_type": "code",
   "execution_count": 50,
   "metadata": {},
   "outputs": [
    {
     "name": "stdout",
     "output_type": "stream",
     "text": [
      "Number of questions with more than 250 solutions: 47\n"
     ]
    },
    {
     "data": {
      "text/plain": [
       "Text(0.5, 1.0, 'Histograma Soluções por Questão (> 250 soluções)')"
      ]
     },
     "execution_count": 50,
     "metadata": {},
     "output_type": "execute_result"
    },
    {
     "data": {
      "image/png": "[encoded data removed]",
      "text/plain": [
       "<Figure size 640x480 with 1 Axes>"
      ]
     },
     "metadata": {},
     "output_type": "display_data"
    }
   ],
   "source": [
    "many_sols_series = sols_per_question[sols_per_question > 250]\n",
    "many_sols_series.hist(bins=range(250, 2001, 250))\n",
    "\n",
    "print(f\"Number of questions with more than 250 solutions: {len(many_sols_series)}\")\n",
    "\n",
    "# Add labels and a title\n",
    "plt.xlabel('Número de Soluções')\n",
    "plt.ylabel('Número de Questões')\n",
    "plt.title('Histograma Soluções por Questão (> 250 soluções)')"
   ]
  },
  {
   "cell_type": "markdown",
   "id": "cf6a6f5b",
   "metadata": {},
   "source": [
    "# Análise dos Dados do Overcode"
   ]
  },
  {
   "cell_type": "markdown",
   "id": "d612ccd0",
   "metadata": {},
   "source": [
    "## Teste com Problema 737"
   ]
  },
  {
   "cell_type": "markdown",
   "id": "f5f03cd9",
   "metadata": {},
   "source": [
    "### Coletar dados do Machine Teaching e processar com Overcode"
   ]
  },
  {
   "cell_type": "code",
   "execution_count": 61,
   "id": "a5588a6e",
   "metadata": {},
   "outputs": [
    {
     "name": "stdout",
     "output_type": "stream",
     "text": [
      "Master script finished running for problem 737.\n"
     ]
    }
   ],
   "source": [
    "from master_script import run_master_script\n",
    "\n",
    "problem_id = 737\n",
    "\n",
    "run_master_script(737, interface=False)"
   ]
  },
  {
   "cell_type": "markdown",
   "id": "2de46141",
   "metadata": {},
   "source": [
    "### Analisar output do Overcode"
   ]
  },
  {
   "cell_type": "code",
   "execution_count": 70,
   "id": "d50a5b0e",
   "metadata": {},
   "outputs": [
    {
     "data": {
      "text/html": [
       "<div>\n",
       "<style scoped>\n",
       "    .dataframe tbody tr th:only-of-type {\n",
       "        vertical-align: middle;\n",
       "    }\n",
       "\n",
       "    .dataframe tbody tr th {\n",
       "        vertical-align: top;\n",
       "    }\n",
       "\n",
       "    .dataframe thead th {\n",
       "        text-align: right;\n",
       "    }\n",
       "</style>\n",
       "<table border=\"1\" class=\"dataframe\">\n",
       "  <thead>\n",
       "    <tr style=\"text-align: right;\">\n",
       "      <th></th>\n",
       "      <th>correct</th>\n",
       "      <th>count</th>\n",
       "      <th>error_vector</th>\n",
       "      <th>id</th>\n",
       "      <th>lineIDs</th>\n",
       "      <th>lines</th>\n",
       "      <th>members</th>\n",
       "      <th>num_passed_tests</th>\n",
       "      <th>number</th>\n",
       "      <th>phraseIDs</th>\n",
       "      <th>stack_distances</th>\n",
       "      <th>test_input_outputs</th>\n",
       "      <th>testcases</th>\n",
       "      <th>total_num_tests</th>\n",
       "      <th>variableIDs</th>\n",
       "    </tr>\n",
       "  </thead>\n",
       "  <tbody>\n",
       "    <tr>\n",
       "      <th>0</th>\n",
       "      <td>True</td>\n",
       "      <td>6</td>\n",
       "      <td>[True, True, True, True, True, True, True, Tru...</td>\n",
       "      <td>1</td>\n",
       "      <td>{'list': [1, 2, 3], 'type': 'set'}</td>\n",
       "      <td>[{'indent': 0, 'line_obj_ID': 1, 'phraseID': 1...</td>\n",
       "      <td>[1528, 1526, 1465, 2815, 1529, 1190]</td>\n",
       "      <td>50</td>\n",
       "      <td>1528</td>\n",
       "      <td>[1, 2, 3]</td>\n",
       "      <td>{'1': 1.0, '2': 0.47500000000000003, '3': 0.83...</td>\n",
       "      <td>{'print(sorte(\"Aid\\u00e9e\", 10, 2004))': 'Para...</td>\n",
       "      <td>[print(sorte(\"Jaime\", 56, 1982)), print(sorte(...</td>\n",
       "      <td>50</td>\n",
       "      <td>[1, 2, 3, 4]</td>\n",
       "    </tr>\n",
       "    <tr>\n",
       "      <th>1</th>\n",
       "      <td>True</td>\n",
       "      <td>1</td>\n",
       "      <td>[True, True, True, True, True, True, True, Tru...</td>\n",
       "      <td>2</td>\n",
       "      <td>{'list': [1, 4, 5, 6, 7, 8, 9], 'type': 'set'}</td>\n",
       "      <td>[{'indent': 0, 'line_obj_ID': 1, 'phraseID': 1...</td>\n",
       "      <td>[2954]</td>\n",
       "      <td>50</td>\n",
       "      <td>2954</td>\n",
       "      <td>[1, 4, 5, 6, 7, 8, 9]</td>\n",
       "      <td>{'1': 0.47500000000000003, '2': 1.0, '3': 0.47...</td>\n",
       "      <td>{'print(sorte(\"Aid\\u00e9e\", 10, 2004))': 'Para...</td>\n",
       "      <td>[print(sorte(\"Jaime\", 56, 1982)), print(sorte(...</td>\n",
       "      <td>50</td>\n",
       "      <td>[1, 3, 4, 5]</td>\n",
       "    </tr>\n",
       "    <tr>\n",
       "      <th>2</th>\n",
       "      <td>True</td>\n",
       "      <td>6</td>\n",
       "      <td>[True, True, True, True, True, True, True, Tru...</td>\n",
       "      <td>3</td>\n",
       "      <td>{'list': [1, 2, 10], 'type': 'set'}</td>\n",
       "      <td>[{'indent': 0, 'line_obj_ID': 1, 'phraseID': 1...</td>\n",
       "      <td>[1434, 1425, 1464, 1489, 1497, 973]</td>\n",
       "      <td>50</td>\n",
       "      <td>1434</td>\n",
       "      <td>[1, 2, 10]</td>\n",
       "      <td>{'1': 0.833333333333333, '2': 0.47500000000000...</td>\n",
       "      <td>{'print(sorte(\"Aid\\u00e9e\", 10, 2004))': 'Para...</td>\n",
       "      <td>[print(sorte(\"Jaime\", 56, 1982)), print(sorte(...</td>\n",
       "      <td>50</td>\n",
       "      <td>[1, 2, 3, 4]</td>\n",
       "    </tr>\n",
       "    <tr>\n",
       "      <th>3</th>\n",
       "      <td>True</td>\n",
       "      <td>1</td>\n",
       "      <td>[True, True, True, True, True, True, True, Tru...</td>\n",
       "      <td>4</td>\n",
       "      <td>{'list': [1, 4, 5, 8, 9, 11, 12], 'type': 'set'}</td>\n",
       "      <td>[{'indent': 0, 'line_obj_ID': 1, 'phraseID': 1...</td>\n",
       "      <td>[3397]</td>\n",
       "      <td>50</td>\n",
       "      <td>3397</td>\n",
       "      <td>[11, 12, 13, 14, 15, 16, 17]</td>\n",
       "      <td>{'1': 0.28571428571428503, '2': 0.285714285714...</td>\n",
       "      <td>{'print(sorte(\"Aid\\u00e9e\", 10, 2004))': 'Para...</td>\n",
       "      <td>[print(sorte(\"Jaime\", 56, 1982)), print(sorte(...</td>\n",
       "      <td>50</td>\n",
       "      <td>[1, 4, 6]</td>\n",
       "    </tr>\n",
       "    <tr>\n",
       "      <th>4</th>\n",
       "      <td>True</td>\n",
       "      <td>1</td>\n",
       "      <td>[True, True, True, True, True, True, True, Tru...</td>\n",
       "      <td>5</td>\n",
       "      <td>{'list': [1, 13], 'type': 'set'}</td>\n",
       "      <td>[{'indent': 0, 'line_obj_ID': 1, 'phraseID': 1...</td>\n",
       "      <td>[2809]</td>\n",
       "      <td>50</td>\n",
       "      <td>2809</td>\n",
       "      <td>[1, 18]</td>\n",
       "      <td>{'1': 0.628571428571428, '2': 0.53968253968253...</td>\n",
       "      <td>{'print(sorte(\"Aid\\u00e9e\", 10, 2004))': 'Para...</td>\n",
       "      <td>[print(sorte(\"Jaime\", 56, 1982)), print(sorte(...</td>\n",
       "      <td>50</td>\n",
       "      <td>[1, 3, 4]</td>\n",
       "    </tr>\n",
       "  </tbody>\n",
       "</table>\n",
       "</div>"
      ],
      "text/plain": [
       "   correct  count                                       error_vector  id  \\\n",
       "0     True      6  [True, True, True, True, True, True, True, Tru...   1   \n",
       "1     True      1  [True, True, True, True, True, True, True, Tru...   2   \n",
       "2     True      6  [True, True, True, True, True, True, True, Tru...   3   \n",
       "3     True      1  [True, True, True, True, True, True, True, Tru...   4   \n",
       "4     True      1  [True, True, True, True, True, True, True, Tru...   5   \n",
       "\n",
       "                                            lineIDs  \\\n",
       "0                {'list': [1, 2, 3], 'type': 'set'}   \n",
       "1    {'list': [1, 4, 5, 6, 7, 8, 9], 'type': 'set'}   \n",
       "2               {'list': [1, 2, 10], 'type': 'set'}   \n",
       "3  {'list': [1, 4, 5, 8, 9, 11, 12], 'type': 'set'}   \n",
       "4                  {'list': [1, 13], 'type': 'set'}   \n",
       "\n",
       "                                               lines  \\\n",
       "0  [{'indent': 0, 'line_obj_ID': 1, 'phraseID': 1...   \n",
       "1  [{'indent': 0, 'line_obj_ID': 1, 'phraseID': 1...   \n",
       "2  [{'indent': 0, 'line_obj_ID': 1, 'phraseID': 1...   \n",
       "3  [{'indent': 0, 'line_obj_ID': 1, 'phraseID': 1...   \n",
       "4  [{'indent': 0, 'line_obj_ID': 1, 'phraseID': 1...   \n",
       "\n",
       "                                members  num_passed_tests  number  \\\n",
       "0  [1528, 1526, 1465, 2815, 1529, 1190]                50    1528   \n",
       "1                                [2954]                50    2954   \n",
       "2   [1434, 1425, 1464, 1489, 1497, 973]                50    1434   \n",
       "3                                [3397]                50    3397   \n",
       "4                                [2809]                50    2809   \n",
       "\n",
       "                      phraseIDs  \\\n",
       "0                     [1, 2, 3]   \n",
       "1         [1, 4, 5, 6, 7, 8, 9]   \n",
       "2                    [1, 2, 10]   \n",
       "3  [11, 12, 13, 14, 15, 16, 17]   \n",
       "4                       [1, 18]   \n",
       "\n",
       "                                     stack_distances  \\\n",
       "0  {'1': 1.0, '2': 0.47500000000000003, '3': 0.83...   \n",
       "1  {'1': 0.47500000000000003, '2': 1.0, '3': 0.47...   \n",
       "2  {'1': 0.833333333333333, '2': 0.47500000000000...   \n",
       "3  {'1': 0.28571428571428503, '2': 0.285714285714...   \n",
       "4  {'1': 0.628571428571428, '2': 0.53968253968253...   \n",
       "\n",
       "                                  test_input_outputs  \\\n",
       "0  {'print(sorte(\"Aid\\u00e9e\", 10, 2004))': 'Para...   \n",
       "1  {'print(sorte(\"Aid\\u00e9e\", 10, 2004))': 'Para...   \n",
       "2  {'print(sorte(\"Aid\\u00e9e\", 10, 2004))': 'Para...   \n",
       "3  {'print(sorte(\"Aid\\u00e9e\", 10, 2004))': 'Para...   \n",
       "4  {'print(sorte(\"Aid\\u00e9e\", 10, 2004))': 'Para...   \n",
       "\n",
       "                                           testcases  total_num_tests  \\\n",
       "0  [print(sorte(\"Jaime\", 56, 1982)), print(sorte(...               50   \n",
       "1  [print(sorte(\"Jaime\", 56, 1982)), print(sorte(...               50   \n",
       "2  [print(sorte(\"Jaime\", 56, 1982)), print(sorte(...               50   \n",
       "3  [print(sorte(\"Jaime\", 56, 1982)), print(sorte(...               50   \n",
       "4  [print(sorte(\"Jaime\", 56, 1982)), print(sorte(...               50   \n",
       "\n",
       "    variableIDs  \n",
       "0  [1, 2, 3, 4]  \n",
       "1  [1, 3, 4, 5]  \n",
       "2  [1, 2, 3, 4]  \n",
       "3     [1, 4, 6]  \n",
       "4     [1, 3, 4]  "
      ]
     },
     "execution_count": 70,
     "metadata": {},
     "output_type": "execute_result"
    }
   ],
   "source": [
    "df_test = pd.read_json(f\"problems_data/problem_{problem_id}/output/solutions.json\")\n",
    "df_test.head()"
   ]
  },
  {
   "cell_type": "markdown",
   "id": "8154e334",
   "metadata": {},
   "source": [
    "#### Quantidade de Soluções e Soluções Corretas"
   ]
  },
  {
   "cell_type": "code",
   "execution_count": 80,
   "id": "3681de5d",
   "metadata": {},
   "outputs": [
    {
     "name": "stdout",
     "output_type": "stream",
     "text": [
      "Number of solutions: 35\n"
     ]
    }
   ],
   "source": [
    "total_solutions = sum(df_test['count'])\n",
    "print(f\"Number of solutions: {total_solutions}\")"
   ]
  },
  {
   "cell_type": "code",
   "execution_count": 104,
   "id": "1caeeb0b",
   "metadata": {},
   "outputs": [
    {
     "name": "stdout",
     "output_type": "stream",
     "text": [
      "Number of correct solutions: 33\n",
      "Number of incorrect solutions: 2\n"
     ]
    }
   ],
   "source": [
    "correct_solutions = df_test[df_test['correct'] == True]['count'].sum()\n",
    "print(f\"Number of correct solutions: {correct_solutions}\")\n",
    "print(f\"Number of incorrect solutions: {total_solutions - correct_solutions}\")"
   ]
  },
  {
   "cell_type": "markdown",
   "id": "59eef0a1",
   "metadata": {},
   "source": [
    "#### Histograma dos clusters de soluções"
   ]
  },
  {
   "cell_type": "code",
   "execution_count": 111,
   "id": "763481e2",
   "metadata": {},
   "outputs": [
    {
     "data": {
      "text/plain": [
       "Text(0.5, 1.0, 'Histograma Soluções X Cluster')"
      ]
     },
     "execution_count": 111,
     "metadata": {},
     "output_type": "execute_result"
    },
    {
     "data": {
      "image/png": "[encoded data removed]",
      "text/plain": [
       "<Figure size 640x480 with 1 Axes>"
      ]
     },
     "metadata": {},
     "output_type": "display_data"
    }
   ],
   "source": [
    "df_test['count'].hist()\n",
    "# Add labels and a title\n",
    "plt.xlabel('Número de Soluções do Cluster')\n",
    "plt.ylabel('Número de Clusters')\n",
    "plt.title('Histograma Soluções X Cluster')"
   ]
  },
  {
   "cell_type": "markdown",
   "id": "e5e81824",
   "metadata": {},
   "source": [
    "#### Verificação da Regra de Pareto"
   ]
  },
  {
   "cell_type": "markdown",
   "id": "6e4dc996",
   "metadata": {},
   "source": []
  }
 ],
 "metadata": {
  "kernelspec": {
   "display_name": "Python 3 (ipykernel)",
   "language": "python",
   "name": "python3"
  },
  "language_info": {
   "codemirror_mode": {
    "name": "ipython",
    "version": 3
   },
   "file_extension": ".py",
   "mimetype": "text/x-python",
   "name": "python",
   "nbconvert_exporter": "python",
   "pygments_lexer": "ipython3",
   "version": "3.10.4"
  }
 },
 "nbformat": 4,
 "nbformat_minor": 5
}
