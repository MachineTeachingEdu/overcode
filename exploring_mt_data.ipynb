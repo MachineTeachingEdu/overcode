{
 "cells": [
  {
   "cell_type": "markdown",
   "id": "6ab681fb",
   "metadata": {},
   "source": [
    "# Conectando com o Banco de Dados"
   ]
  },
  {
   "cell_type": "code",
   "execution_count": 1,
   "id": "fb1ee1f0-3319-4af5-99e2-40f99c1684b9",
   "metadata": {},
   "outputs": [],
   "source": [
    "import psycopg2\n",
    "import os\n",
    "import json\n",
    "\n",
    "# Load the database parameters\n",
    "db_params_path = os.path.join(\"scripts\", \"db_params.json\")\n",
    "with open(db_params_path, \"r\") as f:\n",
    "    db_params = json.load(f)\n",
    "\n",
    "# Establish a connection\n",
    "connection = psycopg2.connect(**db_params)"
   ]
  },
  {
   "cell_type": "markdown",
   "id": "d4298bc6",
   "metadata": {},
   "source": [
    "## Teste"
   ]
  },
  {
   "cell_type": "code",
   "execution_count": 2,
   "id": "40f8aadc",
   "metadata": {},
   "outputs": [
    {
     "name": "stderr",
     "output_type": "stream",
     "text": [
      "/var/folders/r4/lsk7h_t97_z0qpppcnz96n700000gn/T/ipykernel_5000/3729999229.py:12: UserWarning: pandas only supports SQLAlchemy connectable (engine/connection) or database string URI or sqlite3 DBAPI2 connection. Other DBAPI2 objects are not tested. Please consider using SQLAlchemy.\n",
      "  df = pd.read_sql_query(sql_query, connection)\n"
     ]
    }
   ],
   "source": [
    "import pandas as pd\n",
    "\n",
    "n = 1000\n",
    "\n",
    "# SQL query\n",
    "sql_query = f\"\"\"SELECT problem_id, COUNT(DISTINCT user_id)\n",
    "                FROM questions_userlog\n",
    "                GROUP BY problem_id\n",
    "                HAVING COUNT(DISTINCT user_id) >= {n};\"\"\"\n",
    "\n",
    "# Load data into a Pandas dataframe\n",
    "df = pd.read_sql_query(sql_query, connection)\n",
    "\n",
    "# Take a look at the data\n",
    "df.describe()"
   ]
  },
  {
   "cell_type": "markdown",
   "id": "e633a076",
   "metadata": {},
   "source": [
    "# Análise Exploratória"
   ]
  },
  {
   "cell_type": "markdown",
   "id": "1f79f8a9",
   "metadata": {},
   "source": [
    "## Quantas questões existem no banco de dados?"
   ]
  },
  {
   "cell_type": "code",
   "execution_count": 10,
   "id": "b6c48018",
   "metadata": {},
   "outputs": [
    {
     "name": "stderr",
     "output_type": "stream",
     "text": [
      "/var/folders/r4/lsk7h_t97_z0qpppcnz96n700000gn/T/ipykernel_5000/593237104.py:7: UserWarning: pandas only supports SQLAlchemy connectable (engine/connection) or database string URI or sqlite3 DBAPI2 connection. Other DBAPI2 objects are not tested. Please consider using SQLAlchemy.\n",
      "  questions_df = pd.read_sql_query(sql_query, connection)\n"
     ]
    },
    {
     "data": {
      "text/plain": [
       "id                     842\n",
       "title                  842\n",
       "content                842\n",
       "difficulty             842\n",
       "link                   842\n",
       "retrieved_date         842\n",
       "crawler                842\n",
       "hint                   842\n",
       "test_case_generator    124\n",
       "question_type          842\n",
       "options                842\n",
       "dtype: int64"
      ]
     },
     "execution_count": 10,
     "metadata": {},
     "output_type": "execute_result"
    }
   ],
   "source": [
    "# SQL query\n",
    "sql_query = f\"\"\"SELECT *\n",
    "                FROM questions_problem\n",
    "                \"\"\"\n",
    "\n",
    "# Load data into a Pandas dataframe\n",
    "questions_df = pd.read_sql_query(sql_query, connection)\n",
    "\n",
    "# Count lines\n",
    "questions_df.count()"
   ]
  },
  {
   "cell_type": "markdown",
   "id": "397e792f",
   "metadata": {},
   "source": [
    "## Quantas soluções existem no banco de dados?"
   ]
  },
  {
   "cell_type": "markdown",
   "id": "b6194cca",
   "metadata": {},
   "source": [
    "Transformando tabela de soluções em Dataframe:"
   ]
  },
  {
   "cell_type": "code",
   "execution_count": 32,
   "id": "ba92449f",
   "metadata": {},
   "outputs": [
    {
     "name": "stderr",
     "output_type": "stream",
     "text": [
      "/var/folders/r4/lsk7h_t97_z0qpppcnz96n700000gn/T/ipykernel_5000/3692574933.py:7: UserWarning: pandas only supports SQLAlchemy connectable (engine/connection) or database string URI or sqlite3 DBAPI2 connection. Other DBAPI2 objects are not tested. Please consider using SQLAlchemy.\n",
      "  solutions_df = pd.read_sql_query(sql_query, connection)\n"
     ]
    },
    {
     "data": {
      "text/html": [
       "<div>\n",
       "<style scoped>\n",
       "    .dataframe tbody tr th:only-of-type {\n",
       "        vertical-align: middle;\n",
       "    }\n",
       "\n",
       "    .dataframe tbody tr th {\n",
       "        vertical-align: top;\n",
       "    }\n",
       "\n",
       "    .dataframe thead th {\n",
       "        text-align: right;\n",
       "    }\n",
       "</style>\n",
       "<table border=\"1\" class=\"dataframe\">\n",
       "  <thead>\n",
       "    <tr style=\"text-align: right;\">\n",
       "      <th></th>\n",
       "      <th>id</th>\n",
       "      <th>seconds_in_code</th>\n",
       "      <th>seconds_in_page</th>\n",
       "      <th>seconds_to_begin</th>\n",
       "      <th>solution_lines</th>\n",
       "      <th>problem_id</th>\n",
       "      <th>user_id</th>\n",
       "      <th>test_case_hits</th>\n",
       "      <th>user_class_id</th>\n",
       "    </tr>\n",
       "  </thead>\n",
       "  <tbody>\n",
       "    <tr>\n",
       "      <th>count</th>\n",
       "      <td>434337.000000</td>\n",
       "      <td>4.343370e+05</td>\n",
       "      <td>434337.000000</td>\n",
       "      <td>434337.000000</td>\n",
       "      <td>434337.000000</td>\n",
       "      <td>434337.000000</td>\n",
       "      <td>434337.000000</td>\n",
       "      <td>426418.000000</td>\n",
       "      <td>434337.000000</td>\n",
       "    </tr>\n",
       "    <tr>\n",
       "      <th>mean</th>\n",
       "      <td>351012.579948</td>\n",
       "      <td>8.547523e+02</td>\n",
       "      <td>2805.806567</td>\n",
       "      <td>335.728480</td>\n",
       "      <td>11.139997</td>\n",
       "      <td>803.728800</td>\n",
       "      <td>1843.444443</td>\n",
       "      <td>26.622722</td>\n",
       "      <td>69.952010</td>\n",
       "    </tr>\n",
       "    <tr>\n",
       "      <th>std</th>\n",
       "      <td>125402.352557</td>\n",
       "      <td>8.804527e+03</td>\n",
       "      <td>12750.494749</td>\n",
       "      <td>3536.405048</td>\n",
       "      <td>9.153649</td>\n",
       "      <td>52.135296</td>\n",
       "      <td>632.069444</td>\n",
       "      <td>39.219658</td>\n",
       "      <td>27.920784</td>\n",
       "    </tr>\n",
       "    <tr>\n",
       "      <th>min</th>\n",
       "      <td>84420.000000</td>\n",
       "      <td>0.000000e+00</td>\n",
       "      <td>0.000000</td>\n",
       "      <td>0.000000</td>\n",
       "      <td>1.000000</td>\n",
       "      <td>3.000000</td>\n",
       "      <td>1.000000</td>\n",
       "      <td>0.000000</td>\n",
       "      <td>2.000000</td>\n",
       "    </tr>\n",
       "    <tr>\n",
       "      <th>25%</th>\n",
       "      <td>242438.000000</td>\n",
       "      <td>9.200000e+01</td>\n",
       "      <td>314.000000</td>\n",
       "      <td>3.000000</td>\n",
       "      <td>7.000000</td>\n",
       "      <td>804.000000</td>\n",
       "      <td>1323.000000</td>\n",
       "      <td>0.000000</td>\n",
       "      <td>54.000000</td>\n",
       "    </tr>\n",
       "    <tr>\n",
       "      <th>50%</th>\n",
       "      <td>351023.000000</td>\n",
       "      <td>1.940000e+02</td>\n",
       "      <td>796.000000</td>\n",
       "      <td>15.000000</td>\n",
       "      <td>10.000000</td>\n",
       "      <td>813.000000</td>\n",
       "      <td>1762.000000</td>\n",
       "      <td>0.000000</td>\n",
       "      <td>73.000000</td>\n",
       "    </tr>\n",
       "    <tr>\n",
       "      <th>75%</th>\n",
       "      <td>459607.000000</td>\n",
       "      <td>3.900000e+02</td>\n",
       "      <td>1885.000000</td>\n",
       "      <td>79.000000</td>\n",
       "      <td>14.000000</td>\n",
       "      <td>827.000000</td>\n",
       "      <td>2348.000000</td>\n",
       "      <td>53.000000</td>\n",
       "      <td>88.000000</td>\n",
       "    </tr>\n",
       "    <tr>\n",
       "      <th>max</th>\n",
       "      <td>568191.000000</td>\n",
       "      <td>1.042544e+06</td>\n",
       "      <td>504133.000000</td>\n",
       "      <td>499615.000000</td>\n",
       "      <td>3859.000000</td>\n",
       "      <td>857.000000</td>\n",
       "      <td>3421.000000</td>\n",
       "      <td>100.000000</td>\n",
       "      <td>143.000000</td>\n",
       "    </tr>\n",
       "  </tbody>\n",
       "</table>\n",
       "</div>"
      ],
      "text/plain": [
       "                  id  seconds_in_code  seconds_in_page  seconds_to_begin  \\\n",
       "count  434337.000000     4.343370e+05    434337.000000     434337.000000   \n",
       "mean   351012.579948     8.547523e+02      2805.806567        335.728480   \n",
       "std    125402.352557     8.804527e+03     12750.494749       3536.405048   \n",
       "min     84420.000000     0.000000e+00         0.000000          0.000000   \n",
       "25%    242438.000000     9.200000e+01       314.000000          3.000000   \n",
       "50%    351023.000000     1.940000e+02       796.000000         15.000000   \n",
       "75%    459607.000000     3.900000e+02      1885.000000         79.000000   \n",
       "max    568191.000000     1.042544e+06    504133.000000     499615.000000   \n",
       "\n",
       "       solution_lines     problem_id        user_id  test_case_hits  \\\n",
       "count   434337.000000  434337.000000  434337.000000   426418.000000   \n",
       "mean        11.139997     803.728800    1843.444443       26.622722   \n",
       "std          9.153649      52.135296     632.069444       39.219658   \n",
       "min          1.000000       3.000000       1.000000        0.000000   \n",
       "25%          7.000000     804.000000    1323.000000        0.000000   \n",
       "50%         10.000000     813.000000    1762.000000        0.000000   \n",
       "75%         14.000000     827.000000    2348.000000       53.000000   \n",
       "max       3859.000000     857.000000    3421.000000      100.000000   \n",
       "\n",
       "       user_class_id  \n",
       "count  434337.000000  \n",
       "mean       69.952010  \n",
       "std        27.920784  \n",
       "min         2.000000  \n",
       "25%        54.000000  \n",
       "50%        73.000000  \n",
       "75%        88.000000  \n",
       "max       143.000000  "
      ]
     },
     "execution_count": 32,
     "metadata": {},
     "output_type": "execute_result"
    }
   ],
   "source": [
    "# SQL query\n",
    "sql_query = f\"\"\"SELECT *\n",
    "                FROM questions_userlog\n",
    "                \"\"\"\n",
    "\n",
    "# Load data into a Pandas dataframe\n",
    "solutions_df = pd.read_sql_query(sql_query, connection)\n",
    "\n",
    "solutions_df.describe()\n"
   ]
  },
  {
   "cell_type": "code",
   "execution_count": 36,
   "id": "8ca55abe",
   "metadata": {},
   "outputs": [
    {
     "name": "stdout",
     "output_type": "stream",
     "text": [
      "Number of solutions: 434337\n"
     ]
    }
   ],
   "source": [
    "solutions_count = len(solutions_df)\n",
    "print(f\"Number of solutions: {solutions_count}\")"
   ]
  },
  {
   "cell_type": "markdown",
   "id": "5df99da8",
   "metadata": {},
   "source": [
    "## Quantas são as soluções sem contar as tentativas repetidas em cada questão?"
   ]
  },
  {
   "cell_type": "markdown",
   "id": "762e3c66",
   "metadata": {},
   "source": [
    "Contamos apenas a última solução submetida por um usuário para cada questão.\n",
    "\n",
    "Em outras palavras, queremos o número de soluções com pares únicos de [problem_id, user_id]."
   ]
  },
  {
   "cell_type": "code",
   "execution_count": 43,
   "id": "0ab3b74e",
   "metadata": {},
   "outputs": [
    {
     "name": "stdout",
     "output_type": "stream",
     "text": [
      "Number of unique solutions: 51015\n",
      "Counting only unique solutions, we need look just at 11.7% of the solutions.\n"
     ]
    }
   ],
   "source": [
    "# Count number of solutions with unique problem_id/user_id pairs \n",
    "\n",
    "unique_solutions_count = len(solutions_df.groupby([\"problem_id\", \"user_id\"]))\n",
    "print(f\"Number of unique solutions: {unique_solutions_count}\")\n",
    "percentage = round(unique_solutions_count/solutions_count * 100, 1)\n",
    "print(f\"Counting only unique solutions, we need look just at {percentage}% of the solutions.\")"
   ]
  },
  {
   "cell_type": "markdown",
   "id": "318e4550",
   "metadata": {},
   "source": [
    "## Quais são as estatísticas das soluções únicas?"
   ]
  },
  {
   "cell_type": "markdown",
   "id": "1c502ebd",
   "metadata": {},
   "source": [
    "Gerando um dataframe de soluções únicas"
   ]
  },
  {
   "cell_type": "code",
   "execution_count": 56,
   "id": "b82ef7ce",
   "metadata": {},
   "outputs": [
    {
     "data": {
      "text/plain": [
       "51015"
      ]
     },
     "execution_count": 56,
     "metadata": {},
     "output_type": "execute_result"
    }
   ],
   "source": [
    "# Sort the solutions dataframe by 'user_id' and 'problem_id' and 'timestamp' in descending order\n",
    "sorted_solutions_df = solutions_df.sort_values(by=['user_id', 'problem_id', 'timestamp'], ascending=[True, True, True])\n",
    "\n",
    "# Use groupby to group by 'user_id' and 'problem_id' and select the last solution in each group\n",
    "last_solution_df = sorted_solutions_df.groupby(['user_id', 'problem_id']).last().reset_index()"
   ]
  },
  {
   "cell_type": "code",
   "execution_count": 61,
   "id": "523c5d9c",
   "metadata": {},
   "outputs": [
    {
     "data": {
      "text/html": [
       "<div>\n",
       "<style scoped>\n",
       "    .dataframe tbody tr th:only-of-type {\n",
       "        vertical-align: middle;\n",
       "    }\n",
       "\n",
       "    .dataframe tbody tr th {\n",
       "        vertical-align: top;\n",
       "    }\n",
       "\n",
       "    .dataframe thead th {\n",
       "        text-align: right;\n",
       "    }\n",
       "</style>\n",
       "<table border=\"1\" class=\"dataframe\">\n",
       "  <thead>\n",
       "    <tr style=\"text-align: right;\">\n",
       "      <th></th>\n",
       "      <th>user_id</th>\n",
       "      <th>problem_id</th>\n",
       "      <th>id</th>\n",
       "      <th>seconds_in_code</th>\n",
       "      <th>seconds_in_page</th>\n",
       "      <th>seconds_to_begin</th>\n",
       "      <th>solution_lines</th>\n",
       "      <th>test_case_hits</th>\n",
       "      <th>user_class_id</th>\n",
       "    </tr>\n",
       "  </thead>\n",
       "  <tbody>\n",
       "    <tr>\n",
       "      <th>count</th>\n",
       "      <td>51015.000000</td>\n",
       "      <td>51015.000000</td>\n",
       "      <td>51015.000000</td>\n",
       "      <td>51015.000000</td>\n",
       "      <td>51015.000000</td>\n",
       "      <td>51015.000000</td>\n",
       "      <td>51015.000000</td>\n",
       "      <td>50029.000000</td>\n",
       "      <td>51015.000000</td>\n",
       "    </tr>\n",
       "    <tr>\n",
       "      <th>mean</th>\n",
       "      <td>1829.338528</td>\n",
       "      <td>799.172734</td>\n",
       "      <td>351632.839655</td>\n",
       "      <td>506.568735</td>\n",
       "      <td>1785.642635</td>\n",
       "      <td>334.944036</td>\n",
       "      <td>11.333392</td>\n",
       "      <td>93.099083</td>\n",
       "      <td>69.161756</td>\n",
       "    </tr>\n",
       "    <tr>\n",
       "      <th>std</th>\n",
       "      <td>656.720386</td>\n",
       "      <td>63.597801</td>\n",
       "      <td>128877.753572</td>\n",
       "      <td>7900.330112</td>\n",
       "      <td>10297.295393</td>\n",
       "      <td>4604.079000</td>\n",
       "      <td>6.793658</td>\n",
       "      <td>24.535300</td>\n",
       "      <td>29.301950</td>\n",
       "    </tr>\n",
       "    <tr>\n",
       "      <th>min</th>\n",
       "      <td>1.000000</td>\n",
       "      <td>3.000000</td>\n",
       "      <td>84427.000000</td>\n",
       "      <td>0.000000</td>\n",
       "      <td>0.000000</td>\n",
       "      <td>0.000000</td>\n",
       "      <td>1.000000</td>\n",
       "      <td>0.000000</td>\n",
       "      <td>2.000000</td>\n",
       "    </tr>\n",
       "    <tr>\n",
       "      <th>25%</th>\n",
       "      <td>1266.000000</td>\n",
       "      <td>800.000000</td>\n",
       "      <td>235979.500000</td>\n",
       "      <td>42.000000</td>\n",
       "      <td>137.000000</td>\n",
       "      <td>3.000000</td>\n",
       "      <td>7.000000</td>\n",
       "      <td>100.000000</td>\n",
       "      <td>38.000000</td>\n",
       "    </tr>\n",
       "    <tr>\n",
       "      <th>50%</th>\n",
       "      <td>1715.000000</td>\n",
       "      <td>815.000000</td>\n",
       "      <td>351300.000000</td>\n",
       "      <td>126.000000</td>\n",
       "      <td>443.000000</td>\n",
       "      <td>13.000000</td>\n",
       "      <td>10.000000</td>\n",
       "      <td>100.000000</td>\n",
       "      <td>73.000000</td>\n",
       "    </tr>\n",
       "    <tr>\n",
       "      <th>75%</th>\n",
       "      <td>2355.000000</td>\n",
       "      <td>828.000000</td>\n",
       "      <td>464049.000000</td>\n",
       "      <td>251.000000</td>\n",
       "      <td>1150.000000</td>\n",
       "      <td>65.000000</td>\n",
       "      <td>14.000000</td>\n",
       "      <td>100.000000</td>\n",
       "      <td>88.000000</td>\n",
       "    </tr>\n",
       "    <tr>\n",
       "      <th>max</th>\n",
       "      <td>3421.000000</td>\n",
       "      <td>857.000000</td>\n",
       "      <td>568191.000000</td>\n",
       "      <td>940115.000000</td>\n",
       "      <td>504133.000000</td>\n",
       "      <td>499615.000000</td>\n",
       "      <td>123.000000</td>\n",
       "      <td>100.000000</td>\n",
       "      <td>143.000000</td>\n",
       "    </tr>\n",
       "  </tbody>\n",
       "</table>\n",
       "</div>"
      ],
      "text/plain": [
       "            user_id    problem_id             id  seconds_in_code  \\\n",
       "count  51015.000000  51015.000000   51015.000000     51015.000000   \n",
       "mean    1829.338528    799.172734  351632.839655       506.568735   \n",
       "std      656.720386     63.597801  128877.753572      7900.330112   \n",
       "min        1.000000      3.000000   84427.000000         0.000000   \n",
       "25%     1266.000000    800.000000  235979.500000        42.000000   \n",
       "50%     1715.000000    815.000000  351300.000000       126.000000   \n",
       "75%     2355.000000    828.000000  464049.000000       251.000000   \n",
       "max     3421.000000    857.000000  568191.000000    940115.000000   \n",
       "\n",
       "       seconds_in_page  seconds_to_begin  solution_lines  test_case_hits  \\\n",
       "count     51015.000000      51015.000000    51015.000000    50029.000000   \n",
       "mean       1785.642635        334.944036       11.333392       93.099083   \n",
       "std       10297.295393       4604.079000        6.793658       24.535300   \n",
       "min           0.000000          0.000000        1.000000        0.000000   \n",
       "25%         137.000000          3.000000        7.000000      100.000000   \n",
       "50%         443.000000         13.000000       10.000000      100.000000   \n",
       "75%        1150.000000         65.000000       14.000000      100.000000   \n",
       "max      504133.000000     499615.000000      123.000000      100.000000   \n",
       "\n",
       "       user_class_id  \n",
       "count   51015.000000  \n",
       "mean       69.161756  \n",
       "std        29.301950  \n",
       "min         2.000000  \n",
       "25%        38.000000  \n",
       "50%        73.000000  \n",
       "75%        88.000000  \n",
       "max       143.000000  "
      ]
     },
     "execution_count": 61,
     "metadata": {},
     "output_type": "execute_result"
    }
   ],
   "source": [
    "last_solution_df.describe()"
   ]
  },
  {
   "cell_type": "markdown",
   "id": "6a70b249",
   "metadata": {},
   "source": [
    "#"
   ]
  },
  {
   "cell_type": "markdown",
   "id": "6f941ff8",
   "metadata": {},
   "source": [
    "## Quantos são os alunos no banco de dados?"
   ]
  },
  {
   "cell_type": "code",
   "execution_count": 63,
   "id": "a99e9e2f",
   "metadata": {},
   "outputs": [
    {
     "name": "stdout",
     "output_type": "stream",
     "text": [
      "Number of students: 3162\n"
     ]
    },
    {
     "name": "stderr",
     "output_type": "stream",
     "text": [
      "/var/folders/r4/lsk7h_t97_z0qpppcnz96n700000gn/T/ipykernel_5000/3700785459.py:9: UserWarning: pandas only supports SQLAlchemy connectable (engine/connection) or database string URI or sqlite3 DBAPI2 connection. Other DBAPI2 objects are not tested. Please consider using SQLAlchemy.\n",
      "  students_df = pd.read_sql_query(sql_query, connection)\n"
     ]
    }
   ],
   "source": [
    "# TODO cortar os usuarios que são staff ou não estao ativos\n",
    "\n",
    "# SQL query\n",
    "sql_query = f\"\"\"SELECT id\n",
    "                FROM auth_user\n",
    "                \"\"\"\n",
    "\n",
    "# Load data into a Pandas dataframe\n",
    "students_df = pd.read_sql_query(sql_query, connection)\n",
    "\n",
    "# Count lines\n",
    "print(f\"Number of students: {len(students_df)}\")"
   ]
  },
  {
   "cell_type": "markdown",
   "id": "693d225f",
   "metadata": {},
   "source": [
    "## Como é o histograma do número de soluções por questão?"
   ]
  },
  {
   "cell_type": "code",
   "execution_count": null,
   "id": "4aa97be6",
   "metadata": {},
   "outputs": [],
   "source": [
    "# TODO acho q esse vai exigir uma query propria juntando os dados de questions_userlog e questions_problem"
   ]
  }
 ],
 "metadata": {
  "kernelspec": {
   "display_name": "Python 3 (ipykernel)",
   "language": "python",
   "name": "python3"
  },
  "language_info": {
   "codemirror_mode": {
    "name": "ipython",
    "version": 3
   },
   "file_extension": ".py",
   "mimetype": "text/x-python",
   "name": "python",
   "nbconvert_exporter": "python",
   "pygments_lexer": "ipython3",
   "version": "3.10.4"
  }
 },
 "nbformat": 4,
 "nbformat_minor": 5
}
