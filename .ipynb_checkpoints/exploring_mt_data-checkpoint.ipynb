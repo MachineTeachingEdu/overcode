{
 "cells": [
  {
   "cell_type": "code",
   "execution_count": null,
   "id": "fb1ee1f0-3319-4af5-99e2-40f99c1684b9",
   "metadata": {},
   "outputs": [],
   "source": [
    "import psycopg2\n",
    "\n",
    "host = \"localhost\"\n",
    "database = \"your_database_name\"\n",
    "user = \"your_username\"\n",
    "password = \"your_password\"\n",
    "\n",
    "# Establish a connection\n",
    "connection = psycopg2.connect(host=host, database=database, user=user, password=password)"
   ]
  }
 ],
 "metadata": {
  "kernelspec": {
   "display_name": "Python 3 (ipykernel)",
   "language": "python",
   "name": "python3"
  },
  "language_info": {
   "codemirror_mode": {
    "name": "ipython",
    "version": 3
   },
   "file_extension": ".py",
   "mimetype": "text/x-python",
   "name": "python",
   "nbconvert_exporter": "python",
   "pygments_lexer": "ipython3",
   "version": "3.10.4"
  }
 },
 "nbformat": 4,
 "nbformat_minor": 5
}
