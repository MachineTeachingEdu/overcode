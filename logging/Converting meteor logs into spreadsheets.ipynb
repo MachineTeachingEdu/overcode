{
 "cells": [
  {
   "cell_type": "code",
   "execution_count": 60,
   "metadata": {
    "collapsed": true
   },
   "outputs": [],
   "source": [
    "#Run this notebook by replacing 'test.txt' with the name of the log file from meteor'\n",
    "\n",
    "#Assumes the log's first three items in each line are row in student answer spreadsheet, score, comment, separated by commas"
   ]
  },
  {
   "cell_type": "code",
   "execution_count": 51,
   "metadata": {
    "collapsed": false
   },
   "outputs": [],
   "source": [
    "spreadsheetRows = {}\n",
    "with open('test.txt','r') as g:\n",
    "    for line in g:\n",
    "        entry_array = [tok.rstrip('\\n') for tok in line.split(',')]\n",
    "        spreadsheetRows[entry_array[0]]=tuple(entry_array[1:])\n",
    "\n",
    "import datetime \n",
    "with open('spreadsheet'+datetime.datetime.now().isoformat()+'.csv','a') as h:\n",
    "    for row in range(int(sorted(spreadsheetRows)[-1])+1):\n",
    "        key = str(row)\n",
    "        if key in spreadsheetRows.keys():\n",
    "            h.write(key+','+spreadsheetRows[key][0]+','+spreadsheetRows[key][1])\n",
    "        else:\n",
    "            h.write(key)\n",
    "        h.write('\\n')"
   ]
  },
  {
   "cell_type": "markdown",
   "metadata": {},
   "source": [
    "# Example output"
   ]
  },
  {
   "cell_type": "code",
   "execution_count": 59,
   "metadata": {
    "collapsed": false
   },
   "outputs": [
    {
     "name": "stdout",
     "output_type": "stream",
     "text": [
      "0\r\n",
      "1\r\n",
      "2\r\n",
      "3\r\n",
      "4\r\n",
      "5\r\n",
      "6\r\n",
      "7\r\n",
      "8\r\n",
      "9\r\n",
      "10\r\n",
      "11\r\n",
      "12\r\n",
      "13\r\n",
      "14\r\n",
      "15\r\n",
      "16\r\n",
      "17\r\n",
      "18\r\n",
      "19\r\n",
      "20\r\n",
      "21\r\n",
      "22\r\n",
      "23\r\n",
      "24\r\n",
      "25\r\n",
      "26\r\n",
      "27\r\n",
      "28\r\n",
      "29\r\n",
      "30\r\n",
      "31\r\n",
      "32\r\n",
      "33\r\n",
      "34\r\n",
      "35\r\n",
      "36\r\n",
      "37\r\n",
      "38\r\n",
      "39\r\n",
      "40\r\n",
      "41\r\n",
      "42\r\n",
      "43\r\n",
      "44\r\n",
      "45\r\n",
      "46\r\n",
      "47\r\n",
      "48\r\n",
      "49\r\n",
      "50\r\n",
      "51\r\n",
      "52\r\n",
      "53\r\n",
      "54\r\n",
      "55\r\n",
      "56\r\n",
      "57\r\n",
      "58\r\n",
      "59\r\n",
      "60\r\n",
      "61\r\n",
      "62\r\n",
      "63\r\n",
      "64\r\n",
      "65\r\n",
      "66\r\n",
      "67\r\n",
      "68\r\n",
      "69\r\n",
      "70\r\n",
      "71\r\n",
      "72\r\n",
      "73\r\n",
      "74\r\n",
      "75\r\n",
      "76\r\n",
      "77\r\n",
      "78\r\n",
      "79\r\n",
      "80\r\n",
      "81\r\n",
      "82\r\n",
      "83\r\n",
      "84\r\n",
      "85\r\n",
      "86\r\n",
      "87\r\n",
      "88\r\n",
      "89\r\n",
      "90\r\n",
      "91\r\n",
      "92\r\n",
      "93\r\n",
      "94\r\n",
      "95\r\n",
      "96\r\n",
      "97\r\n",
      "98\r\n",
      "99\r\n",
      "100\r\n",
      "101\r\n",
      "102\r\n",
      "103\r\n",
      "104\r\n",
      "105\r\n",
      "106\r\n",
      "107\r\n",
      "108\r\n",
      "109\r\n",
      "110\r\n",
      "111\r\n",
      "112\r\n",
      "113\r\n",
      "114\r\n",
      "115\r\n",
      "116\r\n",
      "117\r\n",
      "118\r\n",
      "119\r\n",
      "120\r\n",
      "121\r\n",
      "122\r\n",
      "123\r\n",
      "124,10,-2 for global var\r\n",
      "125\r\n",
      "126\r\n",
      "127\r\n",
      "128\r\n",
      "129\r\n",
      "130\r\n",
      "131\r\n",
      "132\r\n",
      "133\r\n",
      "134\r\n",
      "135\r\n",
      "136\r\n",
      "137\r\n",
      "138\r\n",
      "139\r\n",
      "140\r\n",
      "141\r\n",
      "142\r\n",
      "143\r\n",
      "144\r\n",
      "145\r\n",
      "146\r\n",
      "147\r\n",
      "148\r\n",
      "149\r\n",
      "150,8,-5 for wtf?\r\n"
     ]
    }
   ],
   "source": [
    "cat spreadsheet2016-02-25T14:59:44.198828.csv"
   ]
  },
  {
   "cell_type": "code",
   "execution_count": 61,
   "metadata": {
    "collapsed": true
   },
   "outputs": [],
   "source": [
    "#this can be copied directly back into the sheet for grading"
   ]
  },
  {
   "cell_type": "code",
   "execution_count": null,
   "metadata": {
    "collapsed": true
   },
   "outputs": [],
   "source": []
  }
 ],
 "metadata": {
  "kernelspec": {
   "display_name": "Python 2",
   "language": "python",
   "name": "python2"
  },
  "language_info": {
   "codemirror_mode": {
    "name": "ipython",
    "version": 2
   },
   "file_extension": ".py",
   "mimetype": "text/x-python",
   "name": "python",
   "nbconvert_exporter": "python",
   "pygments_lexer": "ipython2",
   "version": "2.7.10"
  }
 },
 "nbformat": 4,
 "nbformat_minor": 0
}
